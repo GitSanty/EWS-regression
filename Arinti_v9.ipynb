{
 "cells": [
  {
   "cell_type": "markdown",
   "metadata": {},
   "source": [
    "### Script ARIMA model"
   ]
  },
  {
   "cell_type": "markdown",
   "metadata": {},
   "source": [
    "#### Import libraries"
   ]
  },
  {
   "cell_type": "code",
   "execution_count": 110,
   "metadata": {},
   "outputs": [],
   "source": [
    "import pandas as pd\n",
    "import numpy as np\n",
    "import matplotlib.pyplot as plt\n",
    "%matplotlib inline\n",
    "from sklearn.preprocessing import LabelEncoder\n",
    "import warnings\n",
    "from math import sqrt\n",
    "from statsmodels.tsa.arima.model import ARIMA\n",
    "from sklearn.metrics import mean_squared_error\n",
    "from pandas import DataFrame\n",
    "from pmdarima.arima import auto_arima\n",
    "from pmdarima.arima import ADFTest\n",
    "from statsmodels.graphics.tsaplots import plot_acf\n",
    "import statsmodels.api as sm"
   ]
  },
  {
   "cell_type": "markdown",
   "metadata": {},
   "source": [
    "#### Load the data"
   ]
  },
  {
   "cell_type": "code",
   "execution_count": 2,
   "metadata": {},
   "outputs": [],
   "source": [
    "data = pd.read_csv('/Users/nicolasdemuynck/BeCode/GNT-ARAI-1.25/Content/00.Use cases/arinti/20200124_ews_observations.csv',\n",
    "                   low_memory=False)"
   ]
  },
  {
   "cell_type": "markdown",
   "metadata": {},
   "source": [
    "#### Data preprocessing"
   ]
  },
  {
   "cell_type": "code",
   "execution_count": 3,
   "metadata": {},
   "outputs": [],
   "source": [
    "data.dropna(inplace=True)"
   ]
  },
  {
   "cell_type": "code",
   "execution_count": 4,
   "metadata": {},
   "outputs": [
    {
     "data": {
      "text/plain": [
       "PatientId                   int64\n",
       "ObservationDate    datetime64[ns]\n",
       "EwsProcedure               object\n",
       "EWS_Total                   int64\n",
       "SBP                       float64\n",
       "SBP_Score                 float64\n",
       "LOC                        object\n",
       "LOC_Score                   int64\n",
       "SpO2                      float64\n",
       "SpO2_Score                float64\n",
       "Add_O2                     object\n",
       "Add_O2_Score              float64\n",
       "HR                          int64\n",
       "HR_Score                    int64\n",
       "RR                          int64\n",
       "RR_Score                    int64\n",
       "TEMP                      float64\n",
       "TEMP_Score                  int64\n",
       "dtype: object"
      ]
     },
     "execution_count": 4,
     "metadata": {},
     "output_type": "execute_result"
    }
   ],
   "source": [
    "data['ObservationDate'] =  pd.to_datetime(data['ObservationDate']) #make datetime object\n",
    "data.dtypes"
   ]
  },
  {
   "cell_type": "code",
   "execution_count": 5,
   "metadata": {},
   "outputs": [
    {
     "name": "stdout",
     "output_type": "stream",
     "text": [
      "['ALERT' 'NEW_CONFUSION' 'VOICE' 'PAIN' 'UNRESPONSIVE']\n"
     ]
    }
   ],
   "source": [
    "print(data.LOC.unique())"
   ]
  },
  {
   "cell_type": "code",
   "execution_count": 6,
   "metadata": {},
   "outputs": [
    {
     "name": "stdout",
     "output_type": "stream",
     "text": [
      "[0 1 4 2 3]\n"
     ]
    }
   ],
   "source": [
    "encoder = LabelEncoder ()\n",
    "\n",
    "for i in data.columns:\n",
    "    if data[i].dtype == object:\n",
    "        data[i] = encoder.fit_transform(data[i])\n",
    "print(data.LOC.unique())"
   ]
  },
  {
   "cell_type": "code",
   "execution_count": 7,
   "metadata": {},
   "outputs": [
    {
     "data": {
      "text/html": [
       "<div>\n",
       "<style scoped>\n",
       "    .dataframe tbody tr th:only-of-type {\n",
       "        vertical-align: middle;\n",
       "    }\n",
       "\n",
       "    .dataframe tbody tr th {\n",
       "        vertical-align: top;\n",
       "    }\n",
       "\n",
       "    .dataframe thead th {\n",
       "        text-align: right;\n",
       "    }\n",
       "</style>\n",
       "<table border=\"1\" class=\"dataframe\">\n",
       "  <thead>\n",
       "    <tr style=\"text-align: right;\">\n",
       "      <th></th>\n",
       "      <th>ObservationDate</th>\n",
       "      <th>PatientId</th>\n",
       "      <th>EWS_Total</th>\n",
       "      <th>SBP</th>\n",
       "      <th>LOC</th>\n",
       "      <th>SpO2</th>\n",
       "      <th>HR</th>\n",
       "      <th>RR</th>\n",
       "      <th>TEMP</th>\n",
       "    </tr>\n",
       "  </thead>\n",
       "  <tbody>\n",
       "    <tr>\n",
       "      <th>0</th>\n",
       "      <td>2019-05-01 13:27:50</td>\n",
       "      <td>29</td>\n",
       "      <td>0</td>\n",
       "      <td>143.0</td>\n",
       "      <td>0</td>\n",
       "      <td>96.0</td>\n",
       "      <td>80</td>\n",
       "      <td>18</td>\n",
       "      <td>36.6</td>\n",
       "    </tr>\n",
       "    <tr>\n",
       "      <th>2</th>\n",
       "      <td>2019-05-01 15:54:27</td>\n",
       "      <td>31</td>\n",
       "      <td>1</td>\n",
       "      <td>117.0</td>\n",
       "      <td>0</td>\n",
       "      <td>95.0</td>\n",
       "      <td>75</td>\n",
       "      <td>14</td>\n",
       "      <td>37.3</td>\n",
       "    </tr>\n",
       "    <tr>\n",
       "      <th>4</th>\n",
       "      <td>2019-05-01 17:03:16</td>\n",
       "      <td>33</td>\n",
       "      <td>0</td>\n",
       "      <td>135.0</td>\n",
       "      <td>0</td>\n",
       "      <td>97.0</td>\n",
       "      <td>89</td>\n",
       "      <td>14</td>\n",
       "      <td>36.1</td>\n",
       "    </tr>\n",
       "    <tr>\n",
       "      <th>8</th>\n",
       "      <td>2019-05-01 21:08:05</td>\n",
       "      <td>32</td>\n",
       "      <td>0</td>\n",
       "      <td>125.0</td>\n",
       "      <td>0</td>\n",
       "      <td>97.0</td>\n",
       "      <td>87</td>\n",
       "      <td>14</td>\n",
       "      <td>37.1</td>\n",
       "    </tr>\n",
       "    <tr>\n",
       "      <th>10</th>\n",
       "      <td>2019-05-01 21:13:21</td>\n",
       "      <td>34</td>\n",
       "      <td>1</td>\n",
       "      <td>117.0</td>\n",
       "      <td>0</td>\n",
       "      <td>95.0</td>\n",
       "      <td>64</td>\n",
       "      <td>13</td>\n",
       "      <td>36.6</td>\n",
       "    </tr>\n",
       "  </tbody>\n",
       "</table>\n",
       "</div>"
      ],
      "text/plain": [
       "       ObservationDate  PatientId  EWS_Total    SBP  LOC  SpO2  HR  RR  TEMP\n",
       "0  2019-05-01 13:27:50         29          0  143.0    0  96.0  80  18  36.6\n",
       "2  2019-05-01 15:54:27         31          1  117.0    0  95.0  75  14  37.3\n",
       "4  2019-05-01 17:03:16         33          0  135.0    0  97.0  89  14  36.1\n",
       "8  2019-05-01 21:08:05         32          0  125.0    0  97.0  87  14  37.1\n",
       "10 2019-05-01 21:13:21         34          1  117.0    0  95.0  64  13  36.6"
      ]
     },
     "execution_count": 7,
     "metadata": {},
     "output_type": "execute_result"
    }
   ],
   "source": [
    "df = data[['ObservationDate','PatientId', 'EWS_Total', 'SBP', 'LOC', 'SpO2', 'HR', 'RR','TEMP']]\n",
    "df.head(5)"
   ]
  },
  {
   "cell_type": "code",
   "execution_count": 8,
   "metadata": {},
   "outputs": [
    {
     "data": {
      "text/html": [
       "<div>\n",
       "<style scoped>\n",
       "    .dataframe tbody tr th:only-of-type {\n",
       "        vertical-align: middle;\n",
       "    }\n",
       "\n",
       "    .dataframe tbody tr th {\n",
       "        vertical-align: top;\n",
       "    }\n",
       "\n",
       "    .dataframe thead th {\n",
       "        text-align: right;\n",
       "    }\n",
       "</style>\n",
       "<table border=\"1\" class=\"dataframe\">\n",
       "  <thead>\n",
       "    <tr style=\"text-align: right;\">\n",
       "      <th></th>\n",
       "      <th>PatientId</th>\n",
       "      <th>EWS_Total</th>\n",
       "      <th>SBP</th>\n",
       "      <th>LOC</th>\n",
       "      <th>SpO2</th>\n",
       "      <th>HR</th>\n",
       "      <th>RR</th>\n",
       "      <th>TEMP</th>\n",
       "    </tr>\n",
       "    <tr>\n",
       "      <th>ObservationDate</th>\n",
       "      <th></th>\n",
       "      <th></th>\n",
       "      <th></th>\n",
       "      <th></th>\n",
       "      <th></th>\n",
       "      <th></th>\n",
       "      <th></th>\n",
       "      <th></th>\n",
       "    </tr>\n",
       "  </thead>\n",
       "  <tbody>\n",
       "    <tr>\n",
       "      <th>2019-05-01 13:27:50</th>\n",
       "      <td>29</td>\n",
       "      <td>0</td>\n",
       "      <td>143.0</td>\n",
       "      <td>0</td>\n",
       "      <td>96.0</td>\n",
       "      <td>80</td>\n",
       "      <td>18</td>\n",
       "      <td>36.6</td>\n",
       "    </tr>\n",
       "    <tr>\n",
       "      <th>2019-05-01 15:54:27</th>\n",
       "      <td>31</td>\n",
       "      <td>1</td>\n",
       "      <td>117.0</td>\n",
       "      <td>0</td>\n",
       "      <td>95.0</td>\n",
       "      <td>75</td>\n",
       "      <td>14</td>\n",
       "      <td>37.3</td>\n",
       "    </tr>\n",
       "    <tr>\n",
       "      <th>2019-05-01 17:03:16</th>\n",
       "      <td>33</td>\n",
       "      <td>0</td>\n",
       "      <td>135.0</td>\n",
       "      <td>0</td>\n",
       "      <td>97.0</td>\n",
       "      <td>89</td>\n",
       "      <td>14</td>\n",
       "      <td>36.1</td>\n",
       "    </tr>\n",
       "    <tr>\n",
       "      <th>2019-05-01 21:08:05</th>\n",
       "      <td>32</td>\n",
       "      <td>0</td>\n",
       "      <td>125.0</td>\n",
       "      <td>0</td>\n",
       "      <td>97.0</td>\n",
       "      <td>87</td>\n",
       "      <td>14</td>\n",
       "      <td>37.1</td>\n",
       "    </tr>\n",
       "    <tr>\n",
       "      <th>2019-05-01 21:13:21</th>\n",
       "      <td>34</td>\n",
       "      <td>1</td>\n",
       "      <td>117.0</td>\n",
       "      <td>0</td>\n",
       "      <td>95.0</td>\n",
       "      <td>64</td>\n",
       "      <td>13</td>\n",
       "      <td>36.6</td>\n",
       "    </tr>\n",
       "  </tbody>\n",
       "</table>\n",
       "</div>"
      ],
      "text/plain": [
       "                     PatientId  EWS_Total    SBP  LOC  SpO2  HR  RR  TEMP\n",
       "ObservationDate                                                          \n",
       "2019-05-01 13:27:50         29          0  143.0    0  96.0  80  18  36.6\n",
       "2019-05-01 15:54:27         31          1  117.0    0  95.0  75  14  37.3\n",
       "2019-05-01 17:03:16         33          0  135.0    0  97.0  89  14  36.1\n",
       "2019-05-01 21:08:05         32          0  125.0    0  97.0  87  14  37.1\n",
       "2019-05-01 21:13:21         34          1  117.0    0  95.0  64  13  36.6"
      ]
     },
     "execution_count": 8,
     "metadata": {},
     "output_type": "execute_result"
    }
   ],
   "source": [
    "df.set_index('ObservationDate', inplace = True)\n",
    "df.head(5)"
   ]
  },
  {
   "cell_type": "code",
   "execution_count": 9,
   "metadata": {},
   "outputs": [
    {
     "data": {
      "text/plain": [
       "(160947, 8)"
      ]
     },
     "execution_count": 9,
     "metadata": {},
     "output_type": "execute_result"
    }
   ],
   "source": [
    "df.shape"
   ]
  },
  {
   "cell_type": "code",
   "execution_count": 10,
   "metadata": {},
   "outputs": [
    {
     "data": {
      "text/html": [
       "<div>\n",
       "<style scoped>\n",
       "    .dataframe tbody tr th:only-of-type {\n",
       "        vertical-align: middle;\n",
       "    }\n",
       "\n",
       "    .dataframe tbody tr th {\n",
       "        vertical-align: top;\n",
       "    }\n",
       "\n",
       "    .dataframe thead th {\n",
       "        text-align: right;\n",
       "    }\n",
       "</style>\n",
       "<table border=\"1\" class=\"dataframe\">\n",
       "  <thead>\n",
       "    <tr style=\"text-align: right;\">\n",
       "      <th></th>\n",
       "      <th>PatientId</th>\n",
       "      <th>EWS_Total</th>\n",
       "      <th>SBP</th>\n",
       "      <th>LOC</th>\n",
       "      <th>SpO2</th>\n",
       "      <th>HR</th>\n",
       "      <th>RR</th>\n",
       "      <th>TEMP</th>\n",
       "    </tr>\n",
       "    <tr>\n",
       "      <th>ObservationDate</th>\n",
       "      <th></th>\n",
       "      <th></th>\n",
       "      <th></th>\n",
       "      <th></th>\n",
       "      <th></th>\n",
       "      <th></th>\n",
       "      <th></th>\n",
       "      <th></th>\n",
       "    </tr>\n",
       "  </thead>\n",
       "  <tbody>\n",
       "    <tr>\n",
       "      <th>2019-06-15 13:32:39</th>\n",
       "      <td>1743</td>\n",
       "      <td>4</td>\n",
       "      <td>122.0</td>\n",
       "      <td>0</td>\n",
       "      <td>91.0</td>\n",
       "      <td>112</td>\n",
       "      <td>18</td>\n",
       "      <td>36.6</td>\n",
       "    </tr>\n",
       "    <tr>\n",
       "      <th>2019-06-15 20:22:36</th>\n",
       "      <td>1743</td>\n",
       "      <td>5</td>\n",
       "      <td>109.0</td>\n",
       "      <td>0</td>\n",
       "      <td>93.0</td>\n",
       "      <td>104</td>\n",
       "      <td>16</td>\n",
       "      <td>37.0</td>\n",
       "    </tr>\n",
       "    <tr>\n",
       "      <th>2019-06-16 14:23:34</th>\n",
       "      <td>1743</td>\n",
       "      <td>3</td>\n",
       "      <td>117.0</td>\n",
       "      <td>0</td>\n",
       "      <td>89.0</td>\n",
       "      <td>103</td>\n",
       "      <td>19</td>\n",
       "      <td>36.5</td>\n",
       "    </tr>\n",
       "    <tr>\n",
       "      <th>2019-06-16 19:49:24</th>\n",
       "      <td>1743</td>\n",
       "      <td>3</td>\n",
       "      <td>123.0</td>\n",
       "      <td>0</td>\n",
       "      <td>90.0</td>\n",
       "      <td>107</td>\n",
       "      <td>19</td>\n",
       "      <td>36.6</td>\n",
       "    </tr>\n",
       "    <tr>\n",
       "      <th>2019-06-17 04:39:15</th>\n",
       "      <td>1743</td>\n",
       "      <td>4</td>\n",
       "      <td>102.0</td>\n",
       "      <td>0</td>\n",
       "      <td>92.0</td>\n",
       "      <td>97</td>\n",
       "      <td>18</td>\n",
       "      <td>36.7</td>\n",
       "    </tr>\n",
       "  </tbody>\n",
       "</table>\n",
       "</div>"
      ],
      "text/plain": [
       "                     PatientId  EWS_Total    SBP  LOC  SpO2   HR  RR  TEMP\n",
       "ObservationDate                                                           \n",
       "2019-06-15 13:32:39       1743          4  122.0    0  91.0  112  18  36.6\n",
       "2019-06-15 20:22:36       1743          5  109.0    0  93.0  104  16  37.0\n",
       "2019-06-16 14:23:34       1743          3  117.0    0  89.0  103  19  36.5\n",
       "2019-06-16 19:49:24       1743          3  123.0    0  90.0  107  19  36.6\n",
       "2019-06-17 04:39:15       1743          4  102.0    0  92.0   97  18  36.7"
      ]
     },
     "execution_count": 10,
     "metadata": {},
     "output_type": "execute_result"
    }
   ],
   "source": [
    "patient = df.loc[(df['PatientId'] == 1743)]\n",
    "patient.head(5)"
   ]
  },
  {
   "cell_type": "code",
   "execution_count": 11,
   "metadata": {},
   "outputs": [
    {
     "data": {
      "text/plain": [
       "(616, 8)"
      ]
     },
     "execution_count": 11,
     "metadata": {},
     "output_type": "execute_result"
    }
   ],
   "source": [
    "patient.shape"
   ]
  },
  {
   "cell_type": "markdown",
   "metadata": {},
   "source": [
    "#### Do seasonality test"
   ]
  },
  {
   "cell_type": "code",
   "execution_count": 47,
   "metadata": {},
   "outputs": [
    {
     "name": "stdout",
     "output_type": "stream",
     "text": [
      "(0.01, False)\n",
      "(0.01, False)\n",
      "(0.01, False)\n",
      "(0.01, False)\n",
      "(0.01, False)\n",
      "(0.01, False)\n"
     ]
    }
   ],
   "source": [
    "adf_test = ADFTest(alpha=0.05)    \n",
    "print(adf_test.should_diff(patient.SBP))\n",
    "\n",
    "adf_test = ADFTest(alpha=0.05)\n",
    "print(adf_test.should_diff(patient.LOC))\n",
    "\n",
    "adf_test = ADFTest(alpha=0.05)\n",
    "print(adf_test.should_diff(patient.SpO2))\n",
    "\n",
    "adf_test = ADFTest(alpha=0.05)\n",
    "print(adf_test.should_diff(patient.HR))\n",
    "\n",
    "adf_test = ADFTest(alpha=0.05)\n",
    "print(adf_test.should_diff(patient.RR))\n",
    "\n",
    "adf_test = ADFTest(alpha=0.05)\n",
    "print(adf_test.should_diff(patient.TEMP))"
   ]
  },
  {
   "cell_type": "code",
   "execution_count": 48,
   "metadata": {},
   "outputs": [
    {
     "name": "stdout",
     "output_type": "stream",
     "text": [
      "ADF Statistic: -2.812073\n",
      "p-value: 0.056570\n",
      "ADF Statistic: -4.333422\n",
      "p-value: 0.000389\n",
      "ADF Statistic: -8.942493\n",
      "p-value: 0.000000\n",
      "ADF Statistic: -3.694734\n",
      "p-value: 0.004188\n",
      "ADF Statistic: -5.092743\n",
      "p-value: 0.000014\n"
     ]
    }
   ],
   "source": [
    "from statsmodels.tsa.stattools import adfuller\n",
    "from numpy import log\n",
    "\n",
    "result = adfuller(patient.SBP.dropna())\n",
    "print('ADF Statistic: %f' % result[0])\n",
    "print('p-value: %f' % result[1])\n",
    "\n",
    "result = adfuller(patient.SpO2.dropna())\n",
    "print('ADF Statistic: %f' % result[0])\n",
    "print('p-value: %f' % result[1])\n",
    "\n",
    "result = adfuller(patient.HR.dropna())\n",
    "print('ADF Statistic: %f' % result[0])\n",
    "print('p-value: %f' % result[1])\n",
    "\n",
    "result = adfuller(patient.RR.dropna())\n",
    "print('ADF Statistic: %f' % result[0])\n",
    "print('p-value: %f' % result[1])\n",
    "\n",
    "result = adfuller(patient.TEMP.dropna())\n",
    "print('ADF Statistic: %f' % result[0])\n",
    "print('p-value: %f' % result[1])"
   ]
  },
  {
   "cell_type": "markdown",
   "metadata": {},
   "source": [
    "#### Manual plots"
   ]
  },
  {
   "cell_type": "code",
   "execution_count": 50,
   "metadata": {},
   "outputs": [
    {
     "data": {
      "image/png": "[encoded data removed]",
      "text/plain": [
       "<Figure size 432x288 with 1 Axes>"
      ]
     },
     "metadata": {
      "needs_background": "light"
     },
     "output_type": "display_data"
    },
    {
     "data": {
      "image/png": "[encoded data removed]",
      "text/plain": [
       "<Figure size 432x288 with 1 Axes>"
      ]
     },
     "metadata": {
      "needs_background": "light"
     },
     "output_type": "display_data"
    },
    {
     "data": {
      "image/png": "[encoded data removed]",
      "text/plain": [
       "<Figure size 432x288 with 1 Axes>"
      ]
     },
     "metadata": {
      "needs_background": "light"
     },
     "output_type": "display_data"
    },
    {
     "data": {
      "image/png": "[encoded data removed]",
      "text/plain": [
       "<Figure size 432x288 with 1 Axes>"
      ]
     },
     "metadata": {
      "needs_background": "light"
     },
     "output_type": "display_data"
    },
    {
     "data": {
      "image/png": "[encoded data removed]",
      "text/plain": [
       "<Figure size 432x288 with 1 Axes>"
      ]
     },
     "metadata": {
      "needs_background": "light"
     },
     "output_type": "display_data"
    }
   ],
   "source": [
    "plot_acf(patient.SBP)\n",
    "plt.show() #95% confidence intervals are drown (default)\n",
    "\n",
    "plot_acf(patient.SpO2)\n",
    "plt.show()\n",
    "\n",
    "plot_acf(patient.HR)\n",
    "plt.show()\n",
    "\n",
    "plot_acf(patient.RR)\n",
    "plt.show()\n",
    "\n",
    "plot_acf(patient.TEMP)\n",
    "plt.show()\n",
    "# data is not stationairy\n",
    "# if data tapers to 0 => MA model"
   ]
  },
  {
   "cell_type": "code",
   "execution_count": 52,
   "metadata": {},
   "outputs": [
    {
     "data": {
      "image/png": "[encoded data removed]",
      "text/plain": [
       "<Figure size 432x288 with 1 Axes>"
      ]
     },
     "metadata": {
      "needs_background": "light"
     },
     "output_type": "display_data"
    },
    {
     "data": {
      "image/png": "[encoded data removed]",
      "text/plain": [
       "<Figure size 432x288 with 1 Axes>"
      ]
     },
     "metadata": {
      "needs_background": "light"
     },
     "output_type": "display_data"
    },
    {
     "data": {
      "image/png": "[encoded data removed]",
      "text/plain": [
       "<Figure size 432x288 with 1 Axes>"
      ]
     },
     "metadata": {
      "needs_background": "light"
     },
     "output_type": "display_data"
    },
    {
     "data": {
      "image/png": "[encoded data removed]",
      "text/plain": [
       "<Figure size 432x288 with 1 Axes>"
      ]
     },
     "metadata": {
      "needs_background": "light"
     },
     "output_type": "display_data"
    },
    {
     "data": {
      "image/png": "[encoded data removed]",
      "text/plain": [
       "<Figure size 432x288 with 1 Axes>"
      ]
     },
     "metadata": {
      "needs_background": "light"
     },
     "output_type": "display_data"
    },
    {
     "data": {
      "image/png": "[encoded data removed]",
      "text/plain": [
       "<Figure size 432x288 with 1 Axes>"
      ]
     },
     "metadata": {
      "needs_background": "light"
     },
     "output_type": "display_data"
    }
   ],
   "source": [
    "plot_pacf(patient.SBP)\n",
    "plt.show()\n",
    "\n",
    "plot_pacf(patient.LOC)\n",
    "plt.show()\n",
    "\n",
    "plot_pacf(patient.SpO2)\n",
    "plt.show()\n",
    "\n",
    "plot_pacf(patient.HR)\n",
    "plt.show()\n",
    "\n",
    "plot_pacf(patient.RR)\n",
    "plt.show()\n",
    "\n",
    "plot_pacf(patient.TEMP)\n",
    "plt.show()\n",
    "\n",
    "# if data tapers to zero => AR model"
   ]
  },
  {
   "cell_type": "markdown",
   "metadata": {},
   "source": [
    "#### Grid search hyperparameters"
   ]
  },
  {
   "cell_type": "code",
   "execution_count": 25,
   "metadata": {},
   "outputs": [],
   "source": [
    "# evaluate an ARIMA model for a given order (p,d,q)\n",
    "def evaluate_arima_model(X, arima_order):\n",
    "\t# prepare training dataset\n",
    "\ttrain_size = int(len(X) * 0.80)\n",
    "\ttrain, test = X[0:train_size], X[train_size:]\n",
    "\thistory = [x for x in train]\n",
    "    #test.reset_index(drop=True,inplace = True)\n",
    "\t# make predictions\n",
    "\tpredictions = list()\n",
    "\tfor t in range(len(test)):\n",
    "\t\tmodel = ARIMA(history, order=arima_order)\n",
    "\t\tmodel_fit = model.fit()\n",
    "\t\tyhat = model_fit.forecast()[0]\n",
    "\t\tpredictions.append(yhat)\n",
    "\t\thistory.append(test[t])\n",
    "\t# calculate out of sample error\n",
    "\terror = mean_squared_error(test, predictions)\n",
    "\treturn error"
   ]
  },
  {
   "cell_type": "code",
   "execution_count": 26,
   "metadata": {},
   "outputs": [],
   "source": [
    "# evaluate combinations of p, d and q values for an ARIMA model\n",
    "def evaluate_models(dataset, p_values, d_values, q_values):\n",
    "\tdataset = dataset.astype('float32')\n",
    "\tbest_score, best_cfg = float(\"inf\"), None\n",
    "\tfor p in p_values:\n",
    "\t\tfor d in d_values:\n",
    "\t\t\tfor q in q_values:\n",
    "\t\t\t\torder = (p,d,q)\n",
    "\t\t\t\ttry:\n",
    "\t\t\t\t\tmse = evaluate_arima_model(dataset, order)\n",
    "\t\t\t\t\tif mse < best_score:\n",
    "\t\t\t\t\t\tbest_score, best_cfg = mse, order\n",
    "\t\t\t\t\tprint('ARIMA%s MSE=%.3f' % (order,mse))\n",
    "\t\t\t\texcept:\n",
    "\t\t\t\t\tcontinue\n",
    "\tprint('Best ARIMA%s MSE=%.3f' % (best_cfg, best_score))"
   ]
  },
  {
   "cell_type": "code",
   "execution_count": 33,
   "metadata": {},
   "outputs": [
    {
     "name": "stdout",
     "output_type": "stream",
     "text": [
      "ARIMA(0, 0, 0) MSE=0.242\n",
      "ARIMA(0, 0, 1) MSE=0.228\n",
      "ARIMA(0, 0, 2) MSE=0.232\n",
      "ARIMA(0, 1, 0) MSE=0.228\n",
      "ARIMA(0, 1, 1) MSE=0.192\n",
      "ARIMA(0, 1, 2) MSE=0.195\n",
      "ARIMA(0, 2, 0) MSE=0.606\n",
      "ARIMA(0, 2, 1) MSE=0.228\n",
      "ARIMA(0, 2, 2) MSE=0.190\n",
      "ARIMA(1, 0, 0) MSE=0.227\n",
      "ARIMA(1, 0, 1) MSE=0.206\n",
      "ARIMA(1, 0, 2) MSE=0.213\n",
      "ARIMA(1, 1, 0) MSE=0.206\n",
      "ARIMA(1, 1, 1) MSE=0.194\n",
      "ARIMA(1, 1, 2) MSE=0.189\n",
      "ARIMA(1, 2, 0) MSE=0.377\n",
      "ARIMA(1, 2, 1) MSE=0.206\n",
      "ARIMA(1, 2, 2) MSE=0.193\n",
      "ARIMA(2, 0, 0) MSE=0.232\n",
      "ARIMA(2, 0, 1) MSE=0.221\n",
      "ARIMA(2, 0, 2) MSE=0.206\n",
      "ARIMA(2, 1, 0) MSE=0.224\n",
      "ARIMA(2, 1, 1) MSE=0.207\n",
      "ARIMA(2, 1, 2) MSE=0.206\n",
      "ARIMA(2, 2, 0) MSE=0.353\n",
      "ARIMA(2, 2, 1) MSE=0.224\n",
      "ARIMA(2, 2, 2) MSE=0.207\n",
      "ARIMA(4, 0, 0) MSE=0.219\n",
      "ARIMA(4, 0, 1) MSE=0.214\n",
      "ARIMA(4, 0, 2) MSE=0.209\n",
      "ARIMA(4, 1, 0) MSE=0.219\n",
      "ARIMA(4, 1, 1) MSE=0.203\n",
      "ARIMA(4, 1, 2) MSE=0.205\n",
      "ARIMA(4, 2, 0) MSE=0.314\n",
      "ARIMA(4, 2, 1) MSE=0.220\n",
      "ARIMA(4, 2, 2) MSE=0.227\n",
      "ARIMA(6, 0, 0) MSE=0.217\n",
      "ARIMA(6, 0, 1) MSE=0.214\n",
      "ARIMA(6, 0, 2) MSE=0.212\n",
      "ARIMA(6, 1, 0) MSE=0.219\n",
      "ARIMA(6, 1, 1) MSE=0.205\n",
      "ARIMA(6, 1, 2) MSE=0.204\n",
      "ARIMA(6, 2, 0) MSE=0.281\n",
      "ARIMA(6, 2, 1) MSE=0.219\n",
      "ARIMA(6, 2, 2) MSE=0.221\n",
      "ARIMA(8, 0, 0) MSE=0.217\n",
      "ARIMA(8, 0, 1) MSE=0.217\n",
      "ARIMA(8, 0, 2) MSE=0.218\n",
      "ARIMA(8, 1, 0) MSE=0.221\n",
      "ARIMA(8, 1, 1) MSE=0.208\n",
      "ARIMA(8, 1, 2) MSE=0.208\n",
      "ARIMA(8, 2, 0) MSE=0.279\n",
      "ARIMA(8, 2, 1) MSE=0.221\n",
      "ARIMA(8, 2, 2) MSE=0.224\n",
      "ARIMA(10, 0, 0) MSE=0.216\n",
      "ARIMA(10, 0, 1) MSE=0.222\n",
      "ARIMA(10, 0, 2) MSE=0.223\n",
      "ARIMA(10, 1, 0) MSE=0.219\n",
      "ARIMA(10, 1, 1) MSE=0.207\n",
      "ARIMA(10, 1, 2) MSE=0.210\n",
      "ARIMA(10, 2, 0) MSE=0.249\n",
      "ARIMA(10, 2, 1) MSE=0.219\n",
      "ARIMA(10, 2, 2) MSE=0.217\n",
      "Best ARIMA(1, 1, 2) MSE=0.189\n"
     ]
    }
   ],
   "source": [
    "# evaluate parameters\n",
    "p_values = [0, 1, 2, 4, 6, 8, 10] # range it too large\n",
    "d_values = range(0, 3)\n",
    "q_values = range(0, 3)\n",
    "warnings.filterwarnings(\"ignore\")\n",
    "evaluate_models(patient.TEMP.values, p_values, d_values, q_values)"
   ]
  },
  {
   "cell_type": "code",
   "execution_count": 42,
   "metadata": {},
   "outputs": [
    {
     "name": "stdout",
     "output_type": "stream",
     "text": [
      "ARIMA(0, 0, 0) MSE=100.071\n",
      "ARIMA(0, 0, 1) MSE=81.296\n",
      "ARIMA(0, 0, 2) MSE=79.484\n",
      "ARIMA(0, 1, 0) MSE=85.411\n",
      "ARIMA(0, 1, 1) MSE=67.802\n",
      "ARIMA(0, 1, 2) MSE=66.039\n",
      "ARIMA(0, 2, 0) MSE=231.000\n",
      "ARIMA(0, 2, 1) MSE=85.573\n",
      "ARIMA(0, 2, 2) MSE=67.376\n",
      "ARIMA(1, 0, 0) MSE=76.090\n",
      "ARIMA(1, 0, 1) MSE=67.277\n",
      "ARIMA(1, 0, 2) MSE=65.534\n",
      "ARIMA(1, 1, 0) MSE=73.980\n",
      "ARIMA(1, 1, 1) MSE=66.281\n",
      "ARIMA(1, 1, 2) MSE=66.011\n",
      "ARIMA(1, 2, 0) MSE=152.889\n",
      "ARIMA(1, 2, 1) MSE=74.107\n",
      "ARIMA(1, 2, 2) MSE=65.171\n",
      "ARIMA(2, 0, 0) MSE=72.069\n",
      "ARIMA(2, 0, 1) MSE=65.777\n",
      "ARIMA(2, 0, 2) MSE=65.504\n",
      "ARIMA(2, 1, 0) MSE=68.111\n",
      "ARIMA(2, 1, 1) MSE=67.450\n",
      "ARIMA(2, 1, 2) MSE=67.149\n",
      "ARIMA(2, 2, 0) MSE=118.165\n",
      "ARIMA(2, 2, 1) MSE=68.213\n",
      "ARIMA(2, 2, 2) MSE=66.621\n",
      "Best ARIMA(1, 2, 2) MSE=65.171\n"
     ]
    }
   ],
   "source": [
    "# evaluate parameters\n",
    "p_values = range(0, 3)\n",
    "d_values = range(0, 3)\n",
    "q_values = range(0, 3)\n",
    "warnings.filterwarnings(\"ignore\")\n",
    "evaluate_models(patient.SBP.values, p_values, d_values, q_values)"
   ]
  },
  {
   "cell_type": "code",
   "execution_count": 151,
   "metadata": {},
   "outputs": [
    {
     "name": "stdout",
     "output_type": "stream",
     "text": [
      "ARIMA(0, 0, 0) MSE=100.071\n",
      "ARIMA(0, 0, 1) MSE=81.276\n",
      "ARIMA(0, 0, 2) MSE=79.462\n",
      "ARIMA(0, 0, 3) MSE=73.554\n",
      "ARIMA(0, 0, 4) MSE=70.507\n",
      "ARIMA(0, 1, 0) MSE=85.569\n",
      "ARIMA(0, 1, 1) MSE=71.002\n",
      "ARIMA(0, 1, 2) MSE=69.569\n",
      "ARIMA(0, 1, 3) MSE=70.166\n",
      "ARIMA(0, 1, 4) MSE=69.485\n",
      "ARIMA(0, 2, 0) MSE=231.413\n",
      "ARIMA(0, 2, 1) MSE=85.922\n",
      "ARIMA(0, 2, 2) MSE=67.072\n",
      "ARIMA(0, 2, 3) MSE=65.115\n",
      "ARIMA(0, 2, 4) MSE=66.201\n",
      "ARIMA(1, 0, 0) MSE=76.086\n",
      "ARIMA(1, 0, 1) MSE=67.276\n",
      "ARIMA(1, 0, 2) MSE=65.534\n",
      "ARIMA(1, 0, 3) MSE=66.661\n",
      "ARIMA(1, 1, 0) MSE=74.115\n",
      "ARIMA(1, 1, 1) MSE=69.764\n",
      "ARIMA(1, 1, 2) MSE=70.051\n",
      "ARIMA(1, 1, 3) MSE=70.111\n",
      "ARIMA(1, 1, 4) MSE=70.148\n",
      "ARIMA(1, 2, 0) MSE=153.164\n",
      "ARIMA(2, 0, 0) MSE=72.072\n",
      "ARIMA(2, 0, 1) MSE=65.776\n",
      "ARIMA(2, 0, 3) MSE=63.966\n",
      "ARIMA(2, 1, 0) MSE=68.236\n",
      "ARIMA(2, 1, 1) MSE=70.418\n",
      "ARIMA(2, 1, 2) MSE=70.222\n",
      "ARIMA(2, 1, 3) MSE=70.530\n",
      "ARIMA(2, 1, 4) MSE=69.746\n",
      "ARIMA(2, 2, 0) MSE=118.382\n",
      "ARIMA(3, 0, 0) MSE=66.142\n",
      "ARIMA(3, 0, 1) MSE=65.001\n",
      "ARIMA(3, 0, 2) MSE=63.832\n",
      "ARIMA(3, 1, 0) MSE=66.782\n",
      "ARIMA(3, 1, 1) MSE=69.537\n",
      "ARIMA(3, 1, 2) MSE=69.609\n",
      "ARIMA(3, 1, 3) MSE=69.556\n",
      "ARIMA(3, 1, 4) MSE=70.410\n",
      "ARIMA(3, 2, 0) MSE=100.059\n",
      "ARIMA(4, 0, 0) MSE=65.170\n",
      "ARIMA(4, 0, 1) MSE=65.512\n",
      "ARIMA(4, 0, 2) MSE=65.103\n",
      "ARIMA(4, 0, 3) MSE=62.474\n",
      "ARIMA(4, 1, 0) MSE=67.118\n",
      "ARIMA(4, 1, 1) MSE=69.673\n",
      "ARIMA(4, 1, 2) MSE=69.584\n",
      "ARIMA(4, 1, 3) MSE=71.530\n",
      "ARIMA(4, 1, 4) MSE=70.982\n",
      "ARIMA(4, 2, 0) MSE=91.459\n",
      "Best ARIMA(4, 0, 3) MSE=62.474\n"
     ]
    }
   ],
   "source": [
    "# evaluate parameters\n",
    "p_values = range(0, 5)\n",
    "d_values = range(0, 3)\n",
    "q_values = range(0, 5)\n",
    "warnings.filterwarnings(\"ignore\")\n",
    "evaluate_models(patient.SBP.values, p_values, d_values, q_values)"
   ]
  },
  {
   "cell_type": "code",
   "execution_count": null,
   "metadata": {},
   "outputs": [],
   "source": []
  },
  {
   "cell_type": "code",
   "execution_count": 43,
   "metadata": {},
   "outputs": [
    {
     "name": "stdout",
     "output_type": "stream",
     "text": [
      "ARIMA(0, 0, 0) MSE=14.611\n",
      "ARIMA(0, 0, 1) MSE=11.531\n",
      "ARIMA(0, 0, 2) MSE=10.653\n",
      "ARIMA(0, 1, 0) MSE=10.274\n",
      "ARIMA(0, 1, 1) MSE=7.493\n",
      "ARIMA(0, 1, 2) MSE=7.403\n",
      "ARIMA(0, 2, 0) MSE=29.460\n",
      "ARIMA(0, 2, 1) MSE=10.293\n",
      "ARIMA(0, 2, 2) MSE=7.448\n",
      "ARIMA(1, 0, 0) MSE=10.284\n",
      "ARIMA(1, 0, 1) MSE=7.562\n",
      "ARIMA(1, 0, 2) MSE=7.494\n",
      "ARIMA(1, 1, 0) MSE=8.545\n",
      "ARIMA(1, 1, 1) MSE=7.403\n",
      "ARIMA(1, 1, 2) MSE=7.484\n",
      "ARIMA(1, 2, 0) MSE=16.809\n",
      "ARIMA(1, 2, 1) MSE=8.560\n",
      "ARIMA(1, 2, 2) MSE=7.391\n",
      "ARIMA(2, 0, 0) MSE=9.407\n",
      "ARIMA(2, 0, 1) MSE=7.496\n",
      "ARIMA(2, 0, 2) MSE=7.551\n",
      "ARIMA(2, 1, 0) MSE=8.574\n",
      "ARIMA(2, 1, 1) MSE=7.449\n",
      "ARIMA(2, 1, 2) MSE=7.483\n",
      "ARIMA(2, 2, 0) MSE=15.325\n",
      "ARIMA(2, 2, 1) MSE=8.585\n",
      "ARIMA(2, 2, 2) MSE=7.429\n",
      "Best ARIMA(1, 2, 2) MSE=7.391\n"
     ]
    }
   ],
   "source": [
    "# evaluate parameters\n",
    "p_values = range(0, 3)\n",
    "d_values = range(0, 3)\n",
    "q_values = range(0, 3)\n",
    "warnings.filterwarnings(\"ignore\")\n",
    "evaluate_models(patient.SpO2.values, p_values, d_values, q_values)"
   ]
  },
  {
   "cell_type": "code",
   "execution_count": 153,
   "metadata": {},
   "outputs": [
    {
     "name": "stdout",
     "output_type": "stream",
     "text": [
      "ARIMA(0, 0, 0) MSE=14.611\n",
      "ARIMA(0, 0, 1) MSE=11.531\n",
      "ARIMA(0, 0, 2) MSE=10.652\n",
      "ARIMA(0, 0, 3) MSE=10.306\n",
      "ARIMA(0, 0, 4) MSE=10.197\n",
      "ARIMA(0, 1, 0) MSE=10.293\n",
      "ARIMA(0, 1, 1) MSE=7.506\n",
      "ARIMA(0, 1, 2) MSE=7.442\n",
      "ARIMA(0, 1, 3) MSE=7.484\n",
      "ARIMA(0, 1, 4) MSE=7.632\n",
      "ARIMA(0, 2, 0) MSE=29.514\n",
      "ARIMA(0, 2, 1) MSE=10.334\n",
      "ARIMA(0, 2, 2) MSE=7.505\n",
      "ARIMA(0, 2, 3) MSE=7.442\n",
      "ARIMA(0, 2, 4) MSE=7.411\n",
      "ARIMA(1, 0, 0) MSE=10.284\n",
      "ARIMA(1, 0, 1) MSE=7.562\n",
      "ARIMA(1, 0, 2) MSE=7.495\n",
      "ARIMA(1, 0, 3) MSE=7.576\n",
      "ARIMA(1, 0, 4) MSE=7.661\n",
      "ARIMA(1, 1, 0) MSE=8.561\n",
      "ARIMA(1, 1, 1) MSE=7.445\n",
      "ARIMA(1, 1, 2) MSE=7.548\n",
      "ARIMA(1, 1, 3) MSE=7.512\n",
      "ARIMA(1, 1, 4) MSE=7.697\n",
      "ARIMA(1, 2, 0) MSE=16.841\n",
      "ARIMA(2, 0, 0) MSE=9.407\n",
      "ARIMA(2, 0, 1) MSE=7.496\n",
      "ARIMA(2, 0, 2) MSE=7.553\n",
      "ARIMA(2, 0, 3) MSE=7.652\n",
      "ARIMA(2, 0, 4) MSE=7.609\n",
      "ARIMA(2, 1, 0) MSE=8.589\n",
      "ARIMA(2, 1, 1) MSE=7.483\n",
      "ARIMA(2, 1, 2) MSE=7.510\n",
      "ARIMA(2, 1, 3) MSE=7.544\n",
      "ARIMA(2, 1, 4) MSE=7.497\n",
      "ARIMA(2, 2, 0) MSE=15.354\n",
      "ARIMA(3, 0, 0) MSE=8.942\n",
      "ARIMA(3, 0, 1) MSE=7.552\n",
      "ARIMA(3, 0, 2) MSE=7.639\n",
      "ARIMA(3, 0, 3) MSE=7.524\n",
      "ARIMA(3, 0, 4) MSE=7.688\n",
      "ARIMA(3, 1, 0) MSE=7.905\n",
      "ARIMA(3, 1, 1) MSE=7.663\n",
      "ARIMA(3, 1, 2) MSE=7.657\n",
      "ARIMA(3, 1, 3) MSE=7.658\n",
      "ARIMA(3, 1, 4) MSE=7.730\n",
      "ARIMA(3, 2, 0) MSE=14.100\n",
      "ARIMA(4, 0, 0) MSE=8.452\n",
      "ARIMA(4, 0, 1) MSE=7.644\n",
      "ARIMA(4, 0, 3) MSE=7.472\n",
      "ARIMA(4, 0, 4) MSE=7.686\n",
      "ARIMA(4, 1, 0) MSE=6.959\n",
      "ARIMA(4, 1, 1) MSE=7.675\n",
      "ARIMA(4, 1, 3) MSE=7.678\n",
      "ARIMA(4, 1, 4) MSE=7.720\n",
      "ARIMA(4, 2, 0) MSE=11.299\n",
      "Best ARIMA(4, 1, 0) MSE=6.959\n"
     ]
    }
   ],
   "source": [
    "# evaluate parameters\n",
    "p_values = range(0, 5)\n",
    "d_values = range(0, 3)\n",
    "q_values = range(0, 5)\n",
    "warnings.filterwarnings(\"ignore\")\n",
    "evaluate_models(patient.SpO2.values, p_values, d_values, q_values)"
   ]
  },
  {
   "cell_type": "code",
   "execution_count": 44,
   "metadata": {},
   "outputs": [
    {
     "name": "stdout",
     "output_type": "stream",
     "text": [
      "ARIMA(0, 0, 0) MSE=74.756\n",
      "ARIMA(0, 0, 1) MSE=73.458\n",
      "ARIMA(0, 0, 2) MSE=74.378\n",
      "ARIMA(0, 1, 0) MSE=110.597\n",
      "ARIMA(0, 1, 1) MSE=74.356\n",
      "ARIMA(0, 1, 2) MSE=76.676\n",
      "ARIMA(0, 2, 0) MSE=319.105\n",
      "ARIMA(0, 2, 1) MSE=110.797\n",
      "ARIMA(0, 2, 2) MSE=75.812\n",
      "ARIMA(1, 0, 0) MSE=73.579\n",
      "ARIMA(1, 0, 1) MSE=69.572\n",
      "ARIMA(1, 0, 2) MSE=71.937\n",
      "ARIMA(1, 1, 0) MSE=89.427\n",
      "ARIMA(1, 1, 1) MSE=75.921\n",
      "ARIMA(1, 1, 2) MSE=70.445\n",
      "ARIMA(1, 2, 0) MSE=214.053\n",
      "ARIMA(1, 2, 1) MSE=89.585\n",
      "ARIMA(1, 2, 2) MSE=114.587\n",
      "ARIMA(2, 0, 0) MSE=74.970\n",
      "ARIMA(2, 0, 1) MSE=73.918\n",
      "ARIMA(2, 0, 2) MSE=68.514\n",
      "ARIMA(2, 1, 0) MSE=65.717\n",
      "ARIMA(2, 1, 1) MSE=71.395\n",
      "ARIMA(2, 1, 2) MSE=75.561\n",
      "ARIMA(2, 2, 0) MSE=113.408\n",
      "ARIMA(2, 2, 1) MSE=65.826\n",
      "ARIMA(2, 2, 2) MSE=71.126\n",
      "Best ARIMA(2, 1, 0) MSE=65.717\n"
     ]
    }
   ],
   "source": [
    "# evaluate parameters\n",
    "p_values = range(0, 3)\n",
    "d_values = range(0, 3)\n",
    "q_values = range(0, 3)\n",
    "warnings.filterwarnings(\"ignore\")\n",
    "evaluate_models(patient.HR.values, p_values, d_values, q_values)"
   ]
  },
  {
   "cell_type": "code",
   "execution_count": 45,
   "metadata": {},
   "outputs": [
    {
     "name": "stdout",
     "output_type": "stream",
     "text": [
      "ARIMA(0, 0, 0) MSE=12.109\n",
      "ARIMA(0, 0, 1) MSE=10.843\n",
      "ARIMA(0, 0, 2) MSE=10.307\n",
      "ARIMA(0, 1, 0) MSE=14.484\n",
      "ARIMA(0, 1, 1) MSE=10.758\n",
      "ARIMA(0, 1, 2) MSE=10.015\n",
      "ARIMA(0, 2, 0) MSE=41.089\n",
      "ARIMA(0, 2, 1) MSE=14.510\n",
      "ARIMA(0, 2, 2) MSE=10.781\n",
      "ARIMA(1, 0, 0) MSE=10.362\n",
      "ARIMA(1, 0, 1) MSE=10.220\n",
      "ARIMA(1, 0, 2) MSE=10.343\n",
      "ARIMA(1, 1, 0) MSE=12.082\n",
      "ARIMA(1, 1, 1) MSE=9.807\n",
      "ARIMA(1, 1, 2) MSE=9.833\n",
      "ARIMA(1, 2, 0) MSE=23.430\n",
      "ARIMA(1, 2, 1) MSE=12.108\n",
      "ARIMA(1, 2, 2) MSE=9.989\n",
      "ARIMA(2, 0, 0) MSE=10.255\n",
      "ARIMA(2, 0, 1) MSE=10.456\n",
      "ARIMA(2, 0, 2) MSE=10.253\n",
      "ARIMA(2, 1, 0) MSE=11.908\n",
      "ARIMA(2, 1, 1) MSE=9.835\n",
      "ARIMA(2, 1, 2) MSE=9.840\n",
      "ARIMA(2, 2, 0) MSE=20.587\n",
      "ARIMA(2, 2, 1) MSE=11.933\n",
      "ARIMA(2, 2, 2) MSE=11.596\n",
      "Best ARIMA(1, 1, 1) MSE=9.807\n"
     ]
    }
   ],
   "source": [
    "# evaluate parameters\n",
    "p_values = range(0, 3)\n",
    "d_values = range(0, 3)\n",
    "q_values = range(0, 3)\n",
    "warnings.filterwarnings(\"ignore\")\n",
    "evaluate_models(patient.RR.values, p_values, d_values, q_values)"
   ]
  },
  {
   "cell_type": "markdown",
   "metadata": {},
   "source": [
    "### Fit an ARIMA model and plot residual errors"
   ]
  },
  {
   "cell_type": "code",
   "execution_count": 53,
   "metadata": {},
   "outputs": [
    {
     "name": "stdout",
     "output_type": "stream",
     "text": [
      "                               SARIMAX Results                                \n",
      "==============================================================================\n",
      "Dep. Variable:                      y   No. Observations:                  492\n",
      "Model:                 ARIMA(1, 1, 2)   Log Likelihood                -183.081\n",
      "Date:                Tue, 12 Jan 2021   AIC                            374.162\n",
      "Time:                        14:52:54   BIC                            390.947\n",
      "Sample:                             0   HQIC                           380.753\n",
      "                                - 492                                         \n",
      "Covariance Type:                  opg                                         \n",
      "==============================================================================\n",
      "                 coef    std err          z      P>|z|      [0.025      0.975]\n",
      "------------------------------------------------------------------------------\n",
      "ar.L1         -0.9369      0.043    -21.679      0.000      -1.022      -0.852\n",
      "ma.L1         -0.0034      0.032     -0.107      0.915      -0.066       0.059\n",
      "ma.L2         -0.9493      0.031    -31.012      0.000      -1.009      -0.889\n",
      "sigma2         0.1226      0.007     18.250      0.000       0.109       0.136\n",
      "===================================================================================\n",
      "Ljung-Box (Q):                       67.85   Jarque-Bera (JB):                14.77\n",
      "Prob(Q):                              0.00   Prob(JB):                         0.00\n",
      "Heteroskedasticity (H):               1.03   Skew:                             0.05\n",
      "Prob(H) (two-sided):                  0.83   Kurtosis:                         3.84\n",
      "===================================================================================\n",
      "\n",
      "Warnings:\n",
      "[1] Covariance matrix calculated using the outer product of gradients (complex-step).\n"
     ]
    },
    {
     "data": {
      "image/png": "[encoded data removed]",
      "text/plain": [
       "<Figure size 432x288 with 1 Axes>"
      ]
     },
     "metadata": {
      "needs_background": "light"
     },
     "output_type": "display_data"
    },
    {
     "data": {
      "image/png": "[encoded data removed]",
      "text/plain": [
       "<Figure size 432x288 with 1 Axes>"
      ]
     },
     "metadata": {
      "needs_background": "light"
     },
     "output_type": "display_data"
    },
    {
     "name": "stdout",
     "output_type": "stream",
     "text": [
      "                0\n",
      "count  492.000000\n",
      "mean     0.070092\n",
      "std      1.687220\n",
      "min     -1.102348\n",
      "25%     -0.232516\n",
      "50%      0.008885\n",
      "75%      0.260277\n",
      "max     36.600000\n"
     ]
    }
   ],
   "source": [
    "# split into train and test sets\n",
    "X = patient.TEMP.values\n",
    "size = int(len(X) * 0.8)\n",
    "train, test = X[0:size], X[size:len(X)]\n",
    "\n",
    "# fit model\n",
    "model = ARIMA(train, order=(1,1,2))\n",
    "model_fit = model.fit()\n",
    "\n",
    "# summary of fit model\n",
    "print(model_fit.summary())\n",
    "\n",
    "# line plot of residuals\n",
    "residuals = DataFrame(model_fit.resid) \n",
    "residuals.plot()\n",
    "plt.show()\n",
    "\n",
    "# density plot of residuals \n",
    "residuals.plot(kind='kde') \n",
    "plt.show()\n",
    "\n",
    "# summary stats of residuals\n",
    "print(residuals.describe())"
   ]
  },
  {
   "cell_type": "code",
   "execution_count": 55,
   "metadata": {},
   "outputs": [
    {
     "name": "stdout",
     "output_type": "stream",
     "text": [
      "                               SARIMAX Results                                \n",
      "==============================================================================\n",
      "Dep. Variable:                      y   No. Observations:                  492\n",
      "Model:                 ARIMA(1, 2, 2)   Log Likelihood               -1824.791\n",
      "Date:                Tue, 12 Jan 2021   AIC                           3657.583\n",
      "Time:                        14:54:49   BIC                           3674.361\n",
      "Sample:                             0   HQIC                          3664.172\n",
      "                                - 492                                         \n",
      "Covariance Type:                  opg                                         \n",
      "==============================================================================\n",
      "                 coef    std err          z      P>|z|      [0.025      0.975]\n",
      "------------------------------------------------------------------------------\n",
      "ar.L1          0.0508      0.024      2.087      0.037       0.003       0.099\n",
      "ma.L1         -1.9691      0.015   -130.373      0.000      -1.999      -1.939\n",
      "ma.L2          0.9694      0.015     64.144      0.000       0.940       0.999\n",
      "sigma2        97.7777      2.892     33.808      0.000      92.109     103.446\n",
      "===================================================================================\n",
      "Ljung-Box (Q):                       48.44   Jarque-Bera (JB):              2100.20\n",
      "Prob(Q):                              0.17   Prob(JB):                         0.00\n",
      "Heteroskedasticity (H):               0.46   Skew:                             1.62\n",
      "Prob(H) (two-sided):                  0.00   Kurtosis:                        12.61\n",
      "===================================================================================\n",
      "\n",
      "Warnings:\n",
      "[1] Covariance matrix calculated using the outer product of gradients (complex-step).\n"
     ]
    },
    {
     "data": {
      "image/png": "[encoded data removed]",
      "text/plain": [
       "<Figure size 432x288 with 1 Axes>"
      ]
     },
     "metadata": {
      "needs_background": "light"
     },
     "output_type": "display_data"
    },
    {
     "data": {
      "image/png": "[encoded data removed]",
      "text/plain": [
       "<Figure size 432x288 with 1 Axes>"
      ]
     },
     "metadata": {
      "needs_background": "light"
     },
     "output_type": "display_data"
    },
    {
     "name": "stdout",
     "output_type": "stream",
     "text": [
      "                0\n",
      "count  492.000000\n",
      "mean     0.765774\n",
      "std     11.928947\n",
      "min    -73.995044\n",
      "25%     -5.890840\n",
      "50%     -0.102949\n",
      "75%      6.494575\n",
      "max    122.000000\n"
     ]
    }
   ],
   "source": [
    "# split into train and test sets\n",
    "X = patient.SBP.values\n",
    "size = int(len(X) * 0.8)\n",
    "train, test = X[0:size], X[size:len(X)]\n",
    "\n",
    "# fit model\n",
    "model = ARIMA(train, order=(1,2,2))\n",
    "model_fit = model.fit()\n",
    "\n",
    "# summary of fit model\n",
    "print(model_fit.summary())\n",
    "\n",
    "# line plot of residuals\n",
    "residuals = DataFrame(model_fit.resid) \n",
    "residuals.plot()\n",
    "plt.show()\n",
    "\n",
    "# density plot of residuals \n",
    "residuals.plot(kind='kde') \n",
    "plt.show()\n",
    "\n",
    "# summary stats of residuals\n",
    "print(residuals.describe())"
   ]
  },
  {
   "cell_type": "code",
   "execution_count": 56,
   "metadata": {},
   "outputs": [
    {
     "name": "stdout",
     "output_type": "stream",
     "text": [
      "                               SARIMAX Results                                \n",
      "==============================================================================\n",
      "Dep. Variable:                      y   No. Observations:                  492\n",
      "Model:                 ARIMA(1, 2, 2)   Log Likelihood               -1071.759\n",
      "Date:                Tue, 12 Jan 2021   AIC                           2151.517\n",
      "Time:                        14:56:19   BIC                           2168.295\n",
      "Sample:                             0   HQIC                          2158.106\n",
      "                                - 492                                         \n",
      "Covariance Type:                  opg                                         \n",
      "==============================================================================\n",
      "                 coef    std err          z      P>|z|      [0.025      0.975]\n",
      "------------------------------------------------------------------------------\n",
      "ar.L1          0.0857      0.048      1.772      0.076      -0.009       0.181\n",
      "ma.L1         -1.9600      0.044    -44.615      0.000      -2.046      -1.874\n",
      "ma.L2          0.9601      0.042     22.870      0.000       0.878       1.042\n",
      "sigma2         4.5142      0.395     11.426      0.000       3.740       5.289\n",
      "===================================================================================\n",
      "Ljung-Box (Q):                       37.53   Jarque-Bera (JB):                 1.93\n",
      "Prob(Q):                              0.58   Prob(JB):                         0.38\n",
      "Heteroskedasticity (H):               0.91   Skew:                             0.15\n",
      "Prob(H) (two-sided):                  0.53   Kurtosis:                         2.91\n",
      "===================================================================================\n",
      "\n",
      "Warnings:\n",
      "[1] Covariance matrix calculated using the outer product of gradients (complex-step).\n"
     ]
    },
    {
     "data": {
      "image/png": "[encoded data removed]",
      "text/plain": [
       "<Figure size 432x288 with 1 Axes>"
      ]
     },
     "metadata": {
      "needs_background": "light"
     },
     "output_type": "display_data"
    },
    {
     "data": {
      "image/png": "[encoded data removed]",
      "text/plain": [
       "<Figure size 432x288 with 1 Axes>"
      ]
     },
     "metadata": {
      "needs_background": "light"
     },
     "output_type": "display_data"
    },
    {
     "name": "stdout",
     "output_type": "stream",
     "text": [
      "                0\n",
      "count  492.000000\n",
      "mean     0.058493\n",
      "std      5.042488\n",
      "min    -43.499848\n",
      "25%     -1.560013\n",
      "50%     -0.038939\n",
      "75%      1.503464\n",
      "max     91.000000\n"
     ]
    }
   ],
   "source": [
    "# split into train and test sets\n",
    "X = patient.SpO2.values\n",
    "size = int(len(X) * 0.8)\n",
    "train, test = X[0:size], X[size:len(X)]\n",
    "\n",
    "# fit model\n",
    "model = ARIMA(train, order=(1,2,2))\n",
    "model_fit = model.fit()\n",
    "\n",
    "# summary of fit model\n",
    "print(model_fit.summary())\n",
    "\n",
    "# line plot of residuals\n",
    "residuals = DataFrame(model_fit.resid) \n",
    "residuals.plot()\n",
    "plt.show()\n",
    "\n",
    "# density plot of residuals \n",
    "residuals.plot(kind='kde') \n",
    "plt.show()\n",
    "\n",
    "# summary stats of residuals\n",
    "print(residuals.describe())"
   ]
  },
  {
   "cell_type": "code",
   "execution_count": 58,
   "metadata": {},
   "outputs": [
    {
     "name": "stdout",
     "output_type": "stream",
     "text": [
      "                               SARIMAX Results                                \n",
      "==============================================================================\n",
      "Dep. Variable:                      y   No. Observations:                  492\n",
      "Model:                 ARIMA(2, 1, 0)   Log Likelihood               -1676.020\n",
      "Date:                Tue, 12 Jan 2021   AIC                           3358.040\n",
      "Time:                        14:58:26   BIC                           3370.629\n",
      "Sample:                             0   HQIC                          3362.984\n",
      "                                - 492                                         \n",
      "Covariance Type:                  opg                                         \n",
      "==============================================================================\n",
      "                 coef    std err          z      P>|z|      [0.025      0.975]\n",
      "------------------------------------------------------------------------------\n",
      "ar.L1         -0.7532      0.034    -22.267      0.000      -0.819      -0.687\n",
      "ar.L2         -0.6351      0.037    -16.962      0.000      -0.708      -0.562\n",
      "sigma2        53.8660      3.805     14.157      0.000      46.409      61.323\n",
      "===================================================================================\n",
      "Ljung-Box (Q):                       63.75   Jarque-Bera (JB):                 1.18\n",
      "Prob(Q):                              0.01   Prob(JB):                         0.56\n",
      "Heteroskedasticity (H):               1.02   Skew:                            -0.05\n",
      "Prob(H) (two-sided):                  0.88   Kurtosis:                         2.78\n",
      "===================================================================================\n",
      "\n",
      "Warnings:\n",
      "[1] Covariance matrix calculated using the outer product of gradients (complex-step).\n"
     ]
    },
    {
     "data": {
      "image/png": "[encoded data removed]",
      "text/plain": [
       "<Figure size 432x288 with 1 Axes>"
      ]
     },
     "metadata": {
      "needs_background": "light"
     },
     "output_type": "display_data"
    },
    {
     "data": {
      "image/png": "[encoded data removed]",
      "text/plain": [
       "<Figure size 432x288 with 1 Axes>"
      ]
     },
     "metadata": {
      "needs_background": "light"
     },
     "output_type": "display_data"
    },
    {
     "name": "stdout",
     "output_type": "stream",
     "text": [
      "                0\n",
      "count  492.000000\n",
      "mean     0.161141\n",
      "std      8.914862\n",
      "min    -21.300993\n",
      "25%     -4.912107\n",
      "50%     -0.213716\n",
      "75%      5.376156\n",
      "max    112.000000\n"
     ]
    }
   ],
   "source": [
    "# split into train and test sets\n",
    "X = patient.HR.values\n",
    "size = int(len(X) * 0.8)\n",
    "train, test = X[0:size], X[size:len(X)]\n",
    "\n",
    "# fit model\n",
    "model = ARIMA(train, order=(2,1,0))\n",
    "model_fit = model.fit()\n",
    "\n",
    "# summary of fit model\n",
    "print(model_fit.summary())\n",
    "\n",
    "# line plot of residuals\n",
    "residuals = DataFrame(model_fit.resid) \n",
    "residuals.plot()\n",
    "plt.show()\n",
    "\n",
    "# density plot of residuals \n",
    "residuals.plot(kind='kde') \n",
    "plt.show()\n",
    "\n",
    "# summary stats of residuals\n",
    "print(residuals.describe())"
   ]
  },
  {
   "cell_type": "code",
   "execution_count": 60,
   "metadata": {},
   "outputs": [
    {
     "name": "stdout",
     "output_type": "stream",
     "text": [
      "                               SARIMAX Results                                \n",
      "==============================================================================\n",
      "Dep. Variable:                      y   No. Observations:                  492\n",
      "Model:                 ARIMA(1, 1, 1)   Log Likelihood                -787.845\n",
      "Date:                Tue, 12 Jan 2021   AIC                           1581.690\n",
      "Time:                        14:59:28   BIC                           1594.279\n",
      "Sample:                             0   HQIC                          1586.634\n",
      "                                - 492                                         \n",
      "Covariance Type:                  opg                                         \n",
      "==============================================================================\n",
      "                 coef    std err          z      P>|z|      [0.025      0.975]\n",
      "------------------------------------------------------------------------------\n",
      "ar.L1          0.2612      0.034      7.659      0.000       0.194       0.328\n",
      "ma.L1         -0.9807      0.012    -80.314      0.000      -1.005      -0.957\n",
      "sigma2         1.4415      0.074     19.434      0.000       1.296       1.587\n",
      "===================================================================================\n",
      "Ljung-Box (Q):                       60.13   Jarque-Bera (JB):                67.59\n",
      "Prob(Q):                              0.02   Prob(JB):                         0.00\n",
      "Heteroskedasticity (H):               0.47   Skew:                             0.55\n",
      "Prob(H) (two-sided):                  0.00   Kurtosis:                         4.44\n",
      "===================================================================================\n",
      "\n",
      "Warnings:\n",
      "[1] Covariance matrix calculated using the outer product of gradients (complex-step).\n"
     ]
    },
    {
     "data": {
      "image/png": "[encoded data removed]",
      "text/plain": [
       "<Figure size 432x288 with 1 Axes>"
      ]
     },
     "metadata": {
      "needs_background": "light"
     },
     "output_type": "display_data"
    },
    {
     "data": {
      "image/png": "[encoded data removed]",
      "text/plain": [
       "<Figure size 432x288 with 1 Axes>"
      ]
     },
     "metadata": {
      "needs_background": "light"
     },
     "output_type": "display_data"
    },
    {
     "name": "stdout",
     "output_type": "stream",
     "text": [
      "                0\n",
      "count  492.000000\n",
      "mean    -0.003411\n",
      "std      1.453635\n",
      "min     -3.898643\n",
      "25%     -0.723935\n",
      "50%     -0.077370\n",
      "75%      0.424955\n",
      "max     18.000000\n"
     ]
    }
   ],
   "source": [
    "# split into train and test sets\n",
    "X = patient.RR.values\n",
    "size = int(len(X) * 0.8)\n",
    "train, test = X[0:size], X[size:len(X)]\n",
    "\n",
    "# fit model\n",
    "model = ARIMA(train, order=(1,1,1))\n",
    "model_fit = model.fit()\n",
    "\n",
    "# summary of fit model\n",
    "print(model_fit.summary())\n",
    "\n",
    "# line plot of residuals\n",
    "residuals = DataFrame(model_fit.resid) \n",
    "residuals.plot()\n",
    "plt.show()\n",
    "\n",
    "# density plot of residuals \n",
    "residuals.plot(kind='kde') \n",
    "plt.show()\n",
    "\n",
    "# summary stats of residuals\n",
    "print(residuals.describe())"
   ]
  },
  {
   "cell_type": "markdown",
   "metadata": {},
   "source": [
    "### evaluate an ARIMA model using a walk-forward validation"
   ]
  },
  {
   "cell_type": "code",
   "execution_count": 62,
   "metadata": {},
   "outputs": [
    {
     "name": "stdout",
     "output_type": "stream",
     "text": [
      "predicted=36.614485, expected=36.500000\n",
      "predicted=36.661813, expected=36.500000\n",
      "predicted=36.609399, expected=36.500000\n",
      "predicted=36.653576, expected=36.700000\n",
      "predicted=36.615424, expected=36.600000\n",
      "predicted=36.650130, expected=36.800000\n",
      "predicted=36.625647, expected=36.700000\n",
      "predicted=36.651801, expected=37.200000\n",
      "predicted=36.654676, expected=37.300000\n",
      "predicted=36.682059, expected=36.900000\n",
      "predicted=36.666715, expected=37.400000\n",
      "predicted=36.723624, expected=37.300000\n",
      "predicted=36.705164, expected=37.500000\n",
      "predicted=36.782761, expected=36.400000\n",
      "predicted=36.680900, expected=36.300000\n",
      "predicted=36.736717, expected=36.800000\n",
      "predicted=36.694226, expected=37.100000\n",
      "predicted=36.764920, expected=37.200000\n",
      "predicted=36.737110, expected=37.200000\n",
      "predicted=36.800482, expected=36.500000\n",
      "predicted=36.711005, expected=37.000000\n",
      "predicted=36.817354, expected=36.100000\n",
      "predicted=36.655811, expected=37.000000\n",
      "predicted=36.826329, expected=36.600000\n",
      "predicted=36.666183, expected=36.800000\n",
      "predicted=36.808510, expected=36.600000\n",
      "predicted=36.677766, expected=37.200000\n",
      "predicted=36.820879, expected=37.000000\n",
      "predicted=36.720269, expected=36.200000\n",
      "predicted=36.770253, expected=36.400000\n",
      "predicted=36.705676, expected=36.600000\n",
      "predicted=36.740095, expected=36.600000\n",
      "predicted=36.705096, expected=36.500000\n",
      "predicted=36.718914, expected=36.900000\n",
      "predicted=36.725177, expected=37.200000\n",
      "predicted=36.754521, expected=37.000000\n",
      "predicted=36.742049, expected=36.900000\n",
      "predicted=36.758336, expected=36.400000\n",
      "predicted=36.709020, expected=36.400000\n",
      "predicted=36.729681, expected=36.800000\n",
      "predicted=36.730696, expected=36.300000\n",
      "predicted=36.690846, expected=36.500000\n",
      "predicted=36.720141, expected=36.600000\n",
      "predicted=36.694239, expected=37.400000\n",
      "predicted=36.776743, expected=37.200000\n",
      "predicted=36.724523, expected=36.400000\n",
      "predicted=36.720963, expected=36.600000\n",
      "predicted=36.725042, expected=36.900000\n",
      "predicted=36.742128, expected=36.600000\n",
      "predicted=36.709639, expected=36.700000\n",
      "predicted=36.738730, expected=36.700000\n",
      "predicted=36.713940, expected=37.900000\n",
      "predicted=36.839380, expected=37.800000\n",
      "predicted=36.793853, expected=37.800000\n",
      "predicted=36.907214, expected=37.800000\n",
      "predicted=36.907203, expected=36.900000\n",
      "predicted=36.880199, expected=37.300000\n",
      "predicted=36.958634, expected=36.700000\n",
      "predicted=36.860254, expected=37.500000\n",
      "predicted=37.020284, expected=37.700000\n",
      "predicted=36.996411, expected=36.600000\n",
      "predicted=36.949020, expected=37.500000\n",
      "predicted=37.064950, expected=36.300000\n",
      "predicted=36.874446, expected=35.900000\n",
      "predicted=36.893850, expected=36.700000\n",
      "predicted=36.870804, expected=36.200000\n",
      "predicted=36.811522, expected=36.400000\n",
      "predicted=36.834198, expected=36.800000\n",
      "predicted=36.833519, expected=37.100000\n",
      "predicted=36.867772, expected=37.400000\n",
      "predicted=36.894254, expected=36.800000\n",
      "predicted=36.835654, expected=37.700000\n",
      "predicted=36.986674, expected=37.000000\n",
      "predicted=36.840953, expected=37.000000\n",
      "predicted=36.963004, expected=36.700000\n",
      "predicted=36.838468, expected=37.400000\n",
      "predicted=37.002987, expected=37.100000\n",
      "predicted=36.877201, expected=37.000000\n",
      "predicted=36.976988, expected=37.200000\n",
      "predicted=36.928895, expected=37.300000\n",
      "predicted=37.000183, expected=37.400000\n",
      "predicted=36.987208, expected=37.000000\n",
      "predicted=36.984891, expected=37.100000\n",
      "predicted=37.000715, expected=37.000000\n",
      "predicted=36.985818, expected=37.100000\n",
      "predicted=37.010949, expected=37.400000\n",
      "predicted=37.039327, expected=37.500000\n",
      "predicted=37.067135, expected=36.900000\n",
      "predicted=37.010530, expected=36.500000\n",
      "predicted=36.988329, expected=36.500000\n",
      "predicted=36.958370, expected=36.800000\n",
      "predicted=36.979248, expected=37.600000\n",
      "predicted=37.050122, expected=37.000000\n",
      "predicted=36.966611, expected=36.100000\n",
      "predicted=36.915363, expected=36.700000\n",
      "predicted=36.964639, expected=36.800000\n",
      "predicted=36.920697, expected=37.100000\n",
      "predicted=36.982171, expected=36.500000\n",
      "predicted=36.870727, expected=36.300000\n",
      "predicted=36.901516, expected=35.900000\n",
      "predicted=36.783506, expected=37.100000\n",
      "predicted=36.959864, expected=37.100000\n",
      "predicted=36.842383, expected=37.500000\n",
      "predicted=36.994176, expected=37.700000\n",
      "predicted=36.944787, expected=37.400000\n",
      "predicted=36.994950, expected=36.900000\n",
      "predicted=36.922853, expected=37.500000\n",
      "predicted=37.050647, expected=37.200000\n",
      "predicted=36.953227, expected=37.100000\n",
      "predicted=37.026470, expected=37.000000\n",
      "predicted=36.967395, expected=37.000000\n",
      "predicted=37.011107, expected=37.300000\n",
      "predicted=37.019771, expected=37.000000\n",
      "predicted=36.994484, expected=36.800000\n",
      "predicted=36.985654, expected=37.300000\n",
      "predicted=37.045282, expected=37.300000\n",
      "predicted=37.022532, expected=37.600000\n",
      "predicted=37.101503, expected=36.900000\n",
      "predicted=36.989300, expected=37.100000\n",
      "predicted=37.087414, expected=36.500000\n",
      "predicted=36.939979, expected=37.100000\n",
      "predicted=37.087504, expected=37.600000\n",
      "predicted=37.052243, expected=37.100000\n",
      "predicted=37.052460, expected=36.500000\n",
      "Test RMSE: 0.434\n"
     ]
    },
    {
     "data": {
      "image/png": "[encoded data removed]",
      "text/plain": [
       "<Figure size 432x288 with 1 Axes>"
      ]
     },
     "metadata": {
      "needs_background": "light"
     },
     "output_type": "display_data"
    }
   ],
   "source": [
    "# split into train and test sets\n",
    "X = patient.TEMP.values\n",
    "size = int(len(X) * 0.8)\n",
    "train, test = X[0:size], X[size:len(X)]\n",
    "history = [x for x in train]\n",
    "predictions = list()\n",
    "\n",
    "# walk-forward validation\n",
    "for t in range(len(test)):\n",
    "    model = ARIMA(history, order=(1,1,2))\n",
    "    model_fit = model.fit()\n",
    "    output = model_fit.forecast()\n",
    "    yhat = output[0]\n",
    "    predictions.append(yhat)\n",
    "    obs = test[t]\n",
    "    history.append(obs)\n",
    "    print('predicted=%f, expected=%f' % (yhat, obs))\n",
    "# evaluate forecasts\n",
    "rmse = sqrt(mean_squared_error(test, predictions)) \n",
    "print('Test RMSE: %.3f' % rmse)\n",
    "\n",
    "# plot forecasts against actual outcomes \n",
    "plt.plot(test)\n",
    "plt.plot(predictions, color='red') \n",
    "plt.show()"
   ]
  },
  {
   "cell_type": "code",
   "execution_count": 63,
   "metadata": {},
   "outputs": [
    {
     "name": "stdout",
     "output_type": "stream",
     "text": [
      "predicted=101.085633, expected=113.000000\n",
      "predicted=101.643445, expected=113.000000\n",
      "predicted=102.224230, expected=113.000000\n",
      "predicted=102.823765, expected=111.000000\n",
      "predicted=103.211311, expected=96.000000\n",
      "predicted=101.978528, expected=111.000000\n",
      "predicted=103.349146, expected=93.000000\n",
      "predicted=101.838239, expected=99.000000\n",
      "predicted=102.024341, expected=102.000000\n",
      "predicted=102.204329, expected=98.000000\n",
      "predicted=101.794752, expected=106.000000\n",
      "predicted=102.452470, expected=88.000000\n",
      "predicted=100.819050, expected=93.000000\n",
      "predicted=100.722918, expected=105.000000\n",
      "predicted=101.597590, expected=108.000000\n",
      "predicted=102.049358, expected=102.000000\n",
      "predicted=101.722060, expected=120.000000\n",
      "predicted=103.553211, expected=105.000000\n",
      "predicted=102.821688, expected=98.000000\n",
      "predicted=102.229023, expected=99.000000\n",
      "predicted=102.155179, expected=98.000000\n",
      "predicted=101.929532, expected=95.000000\n",
      "predicted=101.465177, expected=105.000000\n",
      "predicted=102.207244, expected=100.000000\n",
      "predicted=101.842874, expected=107.000000\n",
      "predicted=102.474708, expected=97.000000\n",
      "predicted=101.695075, expected=103.000000\n",
      "predicted=102.099826, expected=104.000000\n",
      "predicted=102.252258, expected=102.000000\n",
      "predicted=102.145016, expected=109.000000\n",
      "predicted=102.842147, expected=95.000000\n",
      "predicted=101.754820, expected=95.000000\n",
      "predicted=101.482541, expected=95.000000\n",
      "predicted=101.224927, expected=100.000000\n",
      "predicted=101.471496, expected=96.000000\n",
      "predicted=101.033355, expected=104.000000\n",
      "predicted=101.617012, expected=87.000000\n",
      "predicted=100.087555, expected=95.000000\n",
      "predicted=100.335640, expected=108.000000\n",
      "predicted=101.381705, expected=117.000000\n",
      "predicted=102.540907, expected=105.000000\n",
      "predicted=101.923161, expected=102.000000\n",
      "predicted=101.750693, expected=95.000000\n",
      "predicted=101.077909, expected=113.000000\n",
      "predicted=102.616875, expected=113.000000\n",
      "predicted=103.050307, expected=103.000000\n",
      "predicted=102.448490, expected=108.000000\n",
      "predicted=102.988855, expected=104.000000\n",
      "predicted=102.802262, expected=115.000000\n",
      "predicted=103.984515, expected=82.000000\n",
      "predicted=101.213275, expected=87.000000\n",
      "predicted=100.882563, expected=101.000000\n",
      "predicted=101.785647, expected=97.000000\n",
      "predicted=101.364219, expected=97.000000\n",
      "predicted=101.207400, expected=108.000000\n",
      "predicted=102.163859, expected=120.000000\n",
      "predicted=103.630924, expected=98.000000\n",
      "predicted=102.000378, expected=96.000000\n",
      "predicted=101.665390, expected=99.000000\n",
      "predicted=101.774248, expected=91.000000\n",
      "predicted=100.873258, expected=96.000000\n",
      "predicted=101.024381, expected=111.000000\n",
      "predicted=102.372015, expected=115.000000\n",
      "predicted=103.127348, expected=115.000000\n",
      "predicted=103.598603, expected=114.000000\n",
      "predicted=103.939938, expected=118.000000\n",
      "predicted=104.802329, expected=119.000000\n",
      "predicted=105.481098, expected=126.000000\n",
      "predicted=106.962153, expected=109.000000\n",
      "predicted=105.625893, expected=98.000000\n",
      "predicted=104.431995, expected=112.000000\n",
      "predicted=105.976931, expected=119.000000\n",
      "predicted=107.148334, expected=101.000000\n",
      "predicted=105.417185, expected=104.000000\n",
      "predicted=105.674106, expected=110.000000\n",
      "predicted=106.410924, expected=101.000000\n",
      "predicted=105.494683, expected=110.000000\n",
      "predicted=106.488166, expected=115.000000\n",
      "predicted=107.303850, expected=106.000000\n",
      "predicted=106.554668, expected=114.000000\n",
      "predicted=107.588558, expected=120.000000\n",
      "predicted=108.678487, expected=120.000000\n",
      "predicted=109.256054, expected=114.000000\n",
      "predicted=109.032517, expected=115.000000\n",
      "predicted=109.482444, expected=123.000000\n",
      "predicted=110.933338, expected=128.000000\n",
      "predicted=112.411830, expected=109.000000\n",
      "predicted=110.627774, expected=114.000000\n",
      "predicted=111.385444, expected=118.000000\n",
      "predicted=112.236480, expected=119.000000\n",
      "predicted=112.849658, expected=109.000000\n",
      "predicted=111.874232, expected=116.000000\n",
      "predicted=112.865327, expected=117.000000\n",
      "predicted=113.327093, expected=120.000000\n",
      "predicted=114.127173, expected=117.000000\n",
      "predicted=114.189188, expected=111.000000\n",
      "predicted=113.624356, expected=114.000000\n",
      "predicted=114.056176, expected=104.000000\n",
      "predicted=112.744910, expected=119.000000\n",
      "predicted=114.545256, expected=108.000000\n",
      "predicted=113.379036, expected=104.000000\n",
      "predicted=112.648164, expected=114.000000\n",
      "predicted=113.725321, expected=107.000000\n",
      "predicted=112.889345, expected=115.000000\n",
      "predicted=113.820147, expected=109.000000\n",
      "predicted=113.170796, expected=109.000000\n",
      "predicted=113.074736, expected=117.000000\n",
      "predicted=114.088511, expected=123.000000\n",
      "predicted=115.187062, expected=116.000000\n",
      "predicted=114.737039, expected=119.000000\n",
      "predicted=115.345272, expected=109.000000\n",
      "predicted=114.275766, expected=120.000000\n",
      "predicted=115.653836, expected=112.000000\n",
      "predicted=114.903321, expected=119.000000\n",
      "predicted=115.845182, expected=115.000000\n",
      "predicted=115.587783, expected=114.000000\n",
      "predicted=115.551719, expected=122.000000\n",
      "predicted=116.697218, expected=125.000000\n",
      "predicted=117.515198, expected=126.000000\n",
      "predicted=118.180310, expected=120.000000\n",
      "predicted=117.884525, expected=116.000000\n",
      "predicted=117.597674, expected=116.000000\n",
      "predicted=117.672464, expected=102.000000\n",
      "predicted=115.798161, expected=120.000000\n",
      "Test RMSE: 8.073\n"
     ]
    },
    {
     "data": {
      "image/png": "[encoded data removed]",
      "text/plain": [
       "<Figure size 432x288 with 1 Axes>"
      ]
     },
     "metadata": {
      "needs_background": "light"
     },
     "output_type": "display_data"
    }
   ],
   "source": [
    "# split into train and test sets\n",
    "X = patient.SBP.values\n",
    "size = int(len(X) * 0.8)\n",
    "train, test = X[0:size], X[size:len(X)]\n",
    "history = [x for x in train]\n",
    "predictions = list()\n",
    "\n",
    "# walk-forward validation\n",
    "for t in range(len(test)):\n",
    "    model = ARIMA(history, order=(1,2,2))\n",
    "    model_fit = model.fit()\n",
    "    output = model_fit.forecast()\n",
    "    yhat = output[0]\n",
    "    predictions.append(yhat)\n",
    "    obs = test[t]\n",
    "    history.append(obs)\n",
    "    print('predicted=%f, expected=%f' % (yhat, obs))\n",
    "# evaluate forecasts\n",
    "rmse = sqrt(mean_squared_error(test, predictions)) \n",
    "print('Test RMSE: %.3f' % rmse)\n",
    "\n",
    "# plot forecasts against actual outcomes \n",
    "plt.plot(test)\n",
    "plt.plot(predictions, color='red') \n",
    "plt.show()"
   ]
  },
  {
   "cell_type": "code",
   "execution_count": 64,
   "metadata": {},
   "outputs": [
    {
     "name": "stdout",
     "output_type": "stream",
     "text": [
      "predicted=89.691835, expected=94.000000\n",
      "predicted=89.994235, expected=93.000000\n",
      "predicted=90.079798, expected=94.000000\n",
      "predicted=90.410160, expected=88.000000\n",
      "predicted=89.674465, expected=96.000000\n",
      "predicted=90.805046, expected=96.000000\n",
      "predicted=91.252708, expected=100.000000\n",
      "predicted=92.599893, expected=98.000000\n",
      "predicted=93.321981, expected=90.000000\n",
      "predicted=91.936276, expected=94.000000\n",
      "predicted=92.690490, expected=92.000000\n",
      "predicted=92.401693, expected=97.000000\n",
      "predicted=93.510216, expected=92.000000\n",
      "predicted=92.912210, expected=92.000000\n",
      "predicted=92.782656, expected=92.000000\n",
      "predicted=92.680628, expected=92.000000\n",
      "predicted=92.604457, expected=91.000000\n",
      "predicted=92.339483, expected=93.000000\n",
      "predicted=92.586740, expected=90.000000\n",
      "predicted=92.067387, expected=97.000000\n",
      "predicted=93.138942, expected=92.000000\n",
      "predicted=92.638806, expected=91.000000\n",
      "predicted=92.396875, expected=93.000000\n",
      "predicted=92.617372, expected=94.000000\n",
      "predicted=92.832344, expected=96.000000\n",
      "predicted=93.332344, expected=91.000000\n",
      "predicted=92.698728, expected=95.000000\n",
      "predicted=93.249368, expected=96.000000\n",
      "predicted=93.668389, expected=95.000000\n",
      "predicted=93.773110, expected=93.000000\n",
      "predicted=93.542658, expected=94.000000\n",
      "predicted=93.692659, expected=93.000000\n",
      "predicted=93.549241, expected=94.000000\n",
      "predicted=93.697324, expected=96.000000\n",
      "predicted=94.156339, expected=96.000000\n",
      "predicted=94.412380, expected=97.000000\n",
      "predicted=94.838673, expected=93.000000\n",
      "predicted=94.332714, expected=90.000000\n",
      "predicted=93.596171, expected=91.000000\n",
      "predicted=93.377890, expected=92.000000\n",
      "predicted=93.322337, expected=93.000000\n",
      "predicted=93.371055, expected=91.000000\n",
      "predicted=92.925433, expected=95.000000\n",
      "predicted=93.519156, expected=96.000000\n",
      "predicted=93.941958, expected=96.000000\n",
      "predicted=94.215168, expected=90.000000\n",
      "predicted=93.179768, expected=92.000000\n",
      "predicted=93.232412, expected=92.000000\n",
      "predicted=93.094682, expected=97.000000\n",
      "predicted=94.025319, expected=96.000000\n",
      "predicted=94.187777, expected=93.000000\n",
      "predicted=93.779202, expected=88.000000\n",
      "predicted=92.670790, expected=93.000000\n",
      "predicted=93.191782, expected=93.000000\n",
      "predicted=93.175189, expected=94.000000\n",
      "predicted=93.377840, expected=93.000000\n",
      "predicted=93.238207, expected=95.000000\n",
      "predicted=93.632228, expected=88.000000\n",
      "predicted=92.433724, expected=91.000000\n",
      "predicted=92.575453, expected=91.000000\n",
      "predicted=92.428808, expected=91.000000\n",
      "predicted=92.295441, expected=92.000000\n",
      "predicted=92.363435, expected=86.000000\n",
      "predicted=91.173157, expected=89.000000\n",
      "predicted=91.194029, expected=94.000000\n",
      "predicted=91.976411, expected=84.000000\n",
      "predicted=90.241986, expected=94.000000\n",
      "predicted=91.396593, expected=92.000000\n",
      "predicted=91.330764, expected=93.000000\n",
      "predicted=91.593245, expected=93.000000\n",
      "predicted=91.747609, expected=95.000000\n",
      "predicted=92.238489, expected=100.000000\n",
      "predicted=93.470093, expected=95.000000\n",
      "predicted=93.156611, expected=97.000000\n",
      "predicted=93.728842, expected=92.000000\n",
      "predicted=93.073272, expected=92.000000\n",
      "predicted=92.971289, expected=91.000000\n",
      "predicted=92.687746, expected=94.000000\n",
      "predicted=93.112467, expected=93.000000\n",
      "predicted=93.006970, expected=94.000000\n",
      "predicted=93.202084, expected=91.000000\n",
      "predicted=92.706678, expected=92.000000\n",
      "predicted=92.745067, expected=94.000000\n",
      "predicted=93.059169, expected=93.000000\n",
      "predicted=92.958448, expected=94.000000\n",
      "predicted=93.154674, expected=91.000000\n",
      "predicted=92.669572, expected=89.000000\n",
      "predicted=92.138528, expected=96.000000\n",
      "predicted=93.178145, expected=96.000000\n",
      "predicted=93.442434, expected=96.000000\n",
      "predicted=93.676255, expected=91.000000\n",
      "predicted=92.929366, expected=89.000000\n",
      "predicted=92.370713, expected=91.000000\n",
      "predicted=92.468653, expected=97.000000\n",
      "predicted=93.499253, expected=93.000000\n",
      "predicted=93.033188, expected=91.000000\n",
      "predicted=92.653211, expected=93.000000\n",
      "predicted=92.898389, expected=93.000000\n",
      "predicted=92.909717, expected=96.000000\n",
      "predicted=93.492766, expected=96.000000\n",
      "predicted=93.712436, expected=93.000000\n",
      "predicted=93.328149, expected=92.000000\n",
      "predicted=93.110684, expected=92.000000\n",
      "predicted=93.020466, expected=96.000000\n",
      "predicted=93.709647, expected=94.000000\n",
      "predicted=93.522249, expected=93.000000\n",
      "predicted=93.370379, expected=94.000000\n",
      "predicted=93.537451, expected=95.000000\n",
      "predicted=93.775792, expected=96.000000\n",
      "predicted=94.091789, expected=95.000000\n",
      "predicted=94.068699, expected=96.000000\n",
      "predicted=94.364513, expected=95.000000\n",
      "predicted=94.321821, expected=95.000000\n",
      "predicted=94.394225, expected=95.000000\n",
      "predicted=94.460223, expected=97.000000\n",
      "predicted=94.930671, expected=93.000000\n",
      "predicted=94.322114, expected=95.000000\n",
      "predicted=94.613189, expected=95.000000\n",
      "predicted=94.660235, expected=95.000000\n",
      "predicted=94.702655, expected=95.000000\n",
      "predicted=94.742324, expected=95.000000\n",
      "predicted=94.777650, expected=93.000000\n",
      "predicted=94.406095, expected=96.000000\n",
      "predicted=94.887481, expected=95.000000\n",
      "Test RMSE: 2.719\n"
     ]
    },
    {
     "data": {
      "image/png": "[encoded data removed]",
      "text/plain": [
       "<Figure size 432x288 with 1 Axes>"
      ]
     },
     "metadata": {
      "needs_background": "light"
     },
     "output_type": "display_data"
    }
   ],
   "source": [
    "# split into train and test sets\n",
    "X = patient.SpO2.values\n",
    "size = int(len(X) * 0.8)\n",
    "train, test = X[0:size], X[size:len(X)]\n",
    "history = [x for x in train]\n",
    "predictions = list()\n",
    "\n",
    "# walk-forward validation\n",
    "for t in range(len(test)):\n",
    "    model = ARIMA(history, order=(1,2,2))\n",
    "    model_fit = model.fit()\n",
    "    output = model_fit.forecast()\n",
    "    yhat = output[0]\n",
    "    predictions.append(yhat)\n",
    "    obs = test[t]\n",
    "    history.append(obs)\n",
    "    print('predicted=%f, expected=%f' % (yhat, obs))\n",
    "# evaluate forecasts\n",
    "rmse = sqrt(mean_squared_error(test, predictions)) \n",
    "print('Test RMSE: %.3f' % rmse)\n",
    "\n",
    "# plot forecasts against actual outcomes \n",
    "plt.plot(test)\n",
    "plt.plot(predictions, color='red') \n",
    "plt.show()"
   ]
  },
  {
   "cell_type": "code",
   "execution_count": 65,
   "metadata": {},
   "outputs": [
    {
     "name": "stdout",
     "output_type": "stream",
     "text": [
      "predicted=97.118075, expected=95.000000\n",
      "predicted=97.141429, expected=95.000000\n",
      "predicted=96.270082, expected=95.000000\n",
      "predicted=95.000000, expected=96.000000\n",
      "predicted=95.246987, expected=105.000000\n",
      "predicted=97.589963, expected=98.000000\n",
      "predicted=97.555296, expected=96.000000\n",
      "predicted=101.950608, expected=96.000000\n",
      "predicted=97.268017, expected=108.000000\n",
      "predicted=98.974350, expected=107.000000\n",
      "predicted=100.148050, expected=106.000000\n",
      "predicted=107.381407, expected=105.000000\n",
      "predicted=106.381260, expected=106.000000\n",
      "predicted=105.882604, expected=99.000000\n",
      "predicted=103.613981, expected=102.000000\n",
      "predicted=104.174876, expected=105.000000\n",
      "predicted=100.856855, expected=104.000000\n",
      "predicted=102.854154, expected=105.000000\n",
      "predicted=104.882598, expected=104.000000\n",
      "predicted=104.117418, expected=104.000000\n",
      "predicted=104.631445, expected=107.000000\n",
      "predicted=104.753299, expected=111.000000\n",
      "predicted=106.112096, expected=110.000000\n",
      "predicted=108.224382, expected=103.000000\n",
      "predicted=108.868149, expected=97.000000\n",
      "predicted=105.888183, expected=100.000000\n",
      "predicted=101.538834, expected=105.000000\n",
      "predicted=99.387434, expected=104.000000\n",
      "predicted=101.600441, expected=94.000000\n",
      "predicted=102.074492, expected=103.000000\n",
      "predicted=102.594032, expected=101.000000\n",
      "predicted=96.824763, expected=96.000000\n",
      "predicted=100.983748, expected=110.000000\n",
      "predicted=102.706976, expected=106.000000\n",
      "predicted=100.156186, expected=103.000000\n",
      "predicted=107.753632, expected=102.000000\n",
      "predicted=104.631227, expected=106.000000\n",
      "predicted=103.650788, expected=107.000000\n",
      "predicted=103.739842, expected=102.000000\n",
      "predicted=105.092911, expected=108.000000\n",
      "predicted=106.677903, expected=102.000000\n",
      "predicted=102.696546, expected=107.000000\n",
      "predicted=107.045171, expected=105.000000\n",
      "predicted=103.348346, expected=109.000000\n",
      "predicted=107.274186, expected=104.000000\n",
      "predicted=105.216377, expected=111.000000\n",
      "predicted=108.916360, expected=103.000000\n",
      "predicted=104.580636, expected=114.000000\n",
      "predicted=110.790429, expected=109.000000\n",
      "predicted=105.845371, expected=105.000000\n",
      "predicted=111.126693, expected=113.000000\n",
      "predicted=109.522883, expected=113.000000\n",
      "predicted=107.981964, expected=113.000000\n",
      "predicted=113.000000, expected=111.000000\n",
      "predicted=112.494777, expected=110.000000\n",
      "predicted=111.999969, expected=104.000000\n",
      "predicted=109.107595, expected=100.000000\n",
      "predicted=106.733657, expected=103.000000\n",
      "predicted=103.262809, expected=111.000000\n",
      "predicted=103.165746, expected=112.000000\n",
      "predicted=106.267296, expected=108.000000\n",
      "predicted=110.348374, expected=105.000000\n",
      "predicted=109.720754, expected=102.000000\n",
      "predicted=106.092341, expected=103.000000\n",
      "predicted=104.124891, expected=104.000000\n",
      "predicted=102.636467, expected=106.000000\n",
      "predicted=103.895348, expected=106.000000\n",
      "predicted=104.756162, expected=107.000000\n",
      "predicted=106.258839, expected=91.000000\n",
      "predicted=102.241968, expected=101.000000\n",
      "predicted=103.537943, expected=93.000000\n",
      "predicted=92.741544, expected=96.000000\n",
      "predicted=98.724275, expected=97.000000\n",
      "predicted=94.402523, expected=100.000000\n",
      "predicted=97.157000, expected=95.000000\n",
      "predicted=96.854293, expected=108.000000\n",
      "predicted=101.435680, expected=103.000000\n",
      "predicted=98.677365, expected=97.000000\n",
      "predicted=104.546002, expected=102.000000\n",
      "predicted=101.998455, expected=93.000000\n",
      "predicted=96.594579, expected=103.000000\n",
      "predicted=101.121844, expected=97.000000\n",
      "predicted=95.294985, expected=100.000000\n",
      "predicted=101.464490, expected=94.000000\n",
      "predicted=96.617846, expected=93.000000\n",
      "predicted=97.435566, expected=97.000000\n",
      "predicted=94.640986, expected=156.000000\n",
      "predicted=109.958900, expected=109.000000\n",
      "predicted=107.520438, expected=107.000000\n",
      "predicted=137.379064, expected=153.000000\n",
      "predicted=119.904798, expected=101.000000\n",
      "predicted=111.405842, expected=100.000000\n",
      "predicted=134.080489, expected=109.000000\n",
      "predicted=102.910975, expected=107.000000\n",
      "predicted=102.938119, expected=102.000000\n",
      "predicted=106.956389, expected=101.000000\n",
      "predicted=104.826070, expected=100.000000\n",
      "predicted=101.359555, expected=101.000000\n",
      "predicted=100.872375, expected=96.000000\n",
      "predicted=99.102250, expected=101.000000\n",
      "predicted=100.360849, expected=102.000000\n",
      "predicted=98.176066, expected=101.000000\n",
      "predicted=101.127777, expected=102.000000\n",
      "predicted=101.872207, expected=95.000000\n",
      "predicted=99.589674, expected=94.000000\n",
      "predicted=99.051284, expected=95.000000\n",
      "predicted=94.872277, expected=100.000000\n",
      "predicted=95.671991, expected=102.000000\n",
      "predicted=97.443002, expected=99.000000\n",
      "predicted=99.996691, expected=101.000000\n",
      "predicted=101.359511, expected=98.000000\n",
      "predicted=98.997192, expected=97.000000\n",
      "predicted=99.584859, expected=99.000000\n",
      "predicted=98.130626, expected=96.000000\n",
      "predicted=96.997095, expected=97.000000\n",
      "predicted=98.101012, expected=104.000000\n",
      "predicted=98.191831, expected=105.000000\n",
      "predicted=99.960563, expected=98.000000\n",
      "predicted=102.573896, expected=96.000000\n",
      "predicted=101.779245, expected=98.000000\n",
      "predicted=97.746970, expected=98.000000\n",
      "predicted=96.772925, expected=107.000000\n",
      "predicted=100.341163, expected=101.000000\n",
      "predicted=99.920500, expected=93.000000\n",
      "Test RMSE: 8.107\n"
     ]
    },
    {
     "data": {
      "image/png": "[encoded data removed]",
      "text/plain": [
       "<Figure size 432x288 with 1 Axes>"
      ]
     },
     "metadata": {
      "needs_background": "light"
     },
     "output_type": "display_data"
    }
   ],
   "source": [
    "# split into train and test sets\n",
    "X = patient.HR.values\n",
    "size = int(len(X) * 0.8)\n",
    "train, test = X[0:size], X[size:len(X)]\n",
    "history = [x for x in train]\n",
    "predictions = list()\n",
    "\n",
    "# walk-forward validation\n",
    "for t in range(len(test)):\n",
    "    model = ARIMA(history, order=(2,1,0))\n",
    "    model_fit = model.fit()\n",
    "    output = model_fit.forecast()\n",
    "    yhat = output[0]\n",
    "    predictions.append(yhat)\n",
    "    obs = test[t]\n",
    "    history.append(obs)\n",
    "    print('predicted=%f, expected=%f' % (yhat, obs))\n",
    "# evaluate forecasts\n",
    "rmse = sqrt(mean_squared_error(test, predictions)) \n",
    "print('Test RMSE: %.3f' % rmse)\n",
    "\n",
    "# plot forecasts against actual outcomes \n",
    "plt.plot(test)\n",
    "plt.plot(predictions, color='red') \n",
    "plt.show()"
   ]
  },
  {
   "cell_type": "code",
   "execution_count": 66,
   "metadata": {},
   "outputs": [
    {
     "name": "stdout",
     "output_type": "stream",
     "text": [
      "predicted=18.400230, expected=24.000000\n",
      "predicted=19.660298, expected=32.000000\n",
      "predicted=23.506901, expected=26.000000\n",
      "predicted=21.669810, expected=22.000000\n",
      "predicted=20.102782, expected=16.000000\n",
      "predicted=17.428178, expected=18.000000\n",
      "predicted=18.258131, expected=16.000000\n",
      "predicted=17.350628, expected=17.000000\n",
      "predicted=17.736659, expected=20.000000\n",
      "predicted=19.022113, expected=20.000000\n",
      "predicted=19.062039, expected=27.000000\n",
      "predicted=22.256594, expected=15.000000\n",
      "predicted=17.303603, expected=18.000000\n",
      "predicted=18.402459, expected=18.000000\n",
      "predicted=18.381563, expected=24.000000\n",
      "predicted=20.719357, expected=25.000000\n",
      "predicted=21.387556, expected=24.000000\n",
      "predicted=21.259219, expected=15.000000\n",
      "predicted=17.660614, expected=20.000000\n",
      "predicted=19.548979, expected=19.000000\n",
      "predicted=19.181227, expected=20.000000\n",
      "predicted=19.564274, expected=14.000000\n",
      "predicted=17.232316, expected=16.000000\n",
      "predicted=17.826752, expected=19.000000\n",
      "predicted=18.914493, expected=20.000000\n",
      "predicted=19.299898, expected=20.000000\n",
      "predicted=19.328901, expected=20.000000\n",
      "predicted=19.356984, expected=20.000000\n",
      "predicted=19.384102, expected=22.000000\n",
      "predicted=20.175486, expected=22.000000\n",
      "predicted=20.263892, expected=22.000000\n",
      "predicted=20.351137, expected=18.000000\n",
      "predicted=18.869951, expected=18.000000\n",
      "predicted=18.826049, expected=19.000000\n",
      "predicted=19.176947, expected=22.000000\n",
      "predicted=20.321706, expected=20.000000\n",
      "predicted=19.628887, expected=20.000000\n",
      "predicted=19.645549, expected=18.000000\n",
      "predicted=18.894361, expected=16.000000\n",
      "predicted=18.073765, expected=16.000000\n",
      "predicted=17.970659, expected=19.000000\n",
      "predicted=19.067316, expected=20.000000\n",
      "predicted=19.449230, expected=20.000000\n",
      "predicted=19.468649, expected=19.000000\n",
      "predicted=19.103078, expected=17.000000\n",
      "predicted=18.328961, expected=19.000000\n",
      "predicted=19.053152, expected=19.000000\n",
      "predicted=19.051372, expected=17.000000\n",
      "predicted=18.284206, expected=19.000000\n",
      "predicted=19.007886, expected=20.000000\n",
      "predicted=19.387791, expected=18.000000\n",
      "predicted=18.647693, expected=20.000000\n",
      "predicted=19.384981, expected=16.000000\n",
      "predicted=17.898834, expected=16.000000\n",
      "predicted=17.827514, expected=16.000000\n",
      "predicted=17.762766, expected=17.000000\n",
      "predicted=18.093574, expected=16.000000\n",
      "predicted=17.672043, expected=20.000000\n",
      "predicted=19.167582, expected=21.000000\n",
      "predicted=19.576686, expected=20.000000\n",
      "predicted=19.232089, expected=20.000000\n",
      "predicted=19.253791, expected=18.000000\n",
      "predicted=18.503826, expected=24.000000\n",
      "predicted=20.780633, expected=22.000000\n",
      "predicted=20.121414, expected=24.000000\n",
      "predicted=20.988162, expected=26.000000\n",
      "predicted=21.981659, expected=22.000000\n",
      "predicted=20.461951, expected=28.000000\n",
      "predicted=23.115403, expected=25.000000\n",
      "predicted=22.081920, expected=20.000000\n",
      "predicted=19.996656, expected=19.000000\n",
      "predicted=19.553754, expected=20.000000\n",
      "predicted=19.968365, expected=20.000000\n",
      "predicted=19.969793, expected=19.000000\n",
      "predicted=19.533059, expected=16.000000\n",
      "predicted=18.188012, expected=22.000000\n",
      "predicted=20.706991, expected=21.000000\n",
      "predicted=20.332455, expected=19.000000\n",
      "predicted=19.506450, expected=16.000000\n",
      "predicted=18.198242, expected=17.000000\n",
      "predicted=18.538220, expected=19.000000\n",
      "predicted=19.343881, expected=20.000000\n",
      "predicted=19.758759, expected=18.000000\n",
      "predicted=18.915880, expected=18.000000\n",
      "predicted=18.885514, expected=20.000000\n",
      "predicted=19.708835, expected=16.000000\n",
      "predicted=18.024678, expected=24.000000\n",
      "predicted=21.289071, expected=20.000000\n",
      "predicted=19.732389, expected=20.000000\n",
      "predicted=19.740677, expected=20.000000\n",
      "predicted=19.748720, expected=14.000000\n",
      "predicted=17.318650, expected=23.000000\n",
      "predicted=20.806198, expected=18.000000\n",
      "predicted=18.949755, expected=20.000000\n",
      "predicted=19.682777, expected=19.000000\n",
      "predicted=19.312555, expected=19.000000\n",
      "predicted=19.303066, expected=20.000000\n",
      "predicted=19.673549, expected=22.000000\n",
      "predicted=20.443512, expected=14.000000\n",
      "predicted=17.498945, expected=17.000000\n",
      "predicted=18.505625, expected=26.000000\n",
      "predicted=21.745146, expected=18.000000\n",
      "predicted=18.995225, expected=21.000000\n",
      "predicted=20.010357, expected=16.000000\n",
      "predicted=18.314413, expected=18.000000\n",
      "predicted=18.932646, expected=15.000000\n",
      "predicted=17.858022, expected=24.000000\n",
      "predicted=20.833682, expected=17.000000\n",
      "predicted=18.618079, expected=13.000000\n",
      "predicted=17.230070, expected=19.000000\n",
      "predicted=19.089663, expected=20.000000\n",
      "predicted=19.412723, expected=20.000000\n",
      "predicted=19.430712, expected=20.000000\n",
      "predicted=19.447949, expected=20.000000\n",
      "predicted=19.464524, expected=18.000000\n",
      "predicted=18.829114, expected=21.000000\n",
      "predicted=19.778204, expected=20.000000\n",
      "predicted=19.490384, expected=18.000000\n",
      "predicted=18.857831, expected=16.000000\n",
      "predicted=18.179599, expected=15.000000\n",
      "predicted=17.768395, expected=24.000000\n",
      "predicted=20.601158, expected=16.000000\n",
      "predicted=18.190200, expected=20.000000\n",
      "predicted=19.347396, expected=18.000000\n",
      "Test RMSE: 3.132\n"
     ]
    },
    {
     "data": {
      "image/png": "[encoded data removed]",
      "text/plain": [
       "<Figure size 432x288 with 1 Axes>"
      ]
     },
     "metadata": {
      "needs_background": "light"
     },
     "output_type": "display_data"
    }
   ],
   "source": [
    "# split into train and test sets\n",
    "X = patient.RR.values\n",
    "size = int(len(X) * 0.8)\n",
    "train, test = X[0:size], X[size:len(X)]\n",
    "history = [x for x in train]\n",
    "predictions = list()\n",
    "\n",
    "# walk-forward validation\n",
    "for t in range(len(test)):\n",
    "    model = ARIMA(history, order=(1,1,1))\n",
    "    model_fit = model.fit()\n",
    "    output = model_fit.forecast()\n",
    "    yhat = output[0]\n",
    "    predictions.append(yhat)\n",
    "    obs = test[t]\n",
    "    history.append(obs)\n",
    "    print('predicted=%f, expected=%f' % (yhat, obs))\n",
    "# evaluate forecasts\n",
    "rmse = sqrt(mean_squared_error(test, predictions)) \n",
    "print('Test RMSE: %.3f' % rmse)\n",
    "\n",
    "# plot forecasts against actual outcomes \n",
    "plt.plot(test)\n",
    "plt.plot(predictions, color='red') \n",
    "plt.show()"
   ]
  },
  {
   "cell_type": "markdown",
   "metadata": {},
   "source": [
    "### Calculate and review confidence intervals"
   ]
  },
  {
   "cell_type": "code",
   "execution_count": 92,
   "metadata": {},
   "outputs": [
    {
     "name": "stdout",
     "output_type": "stream",
     "text": [
      "Expected: 37.052\n",
      "Forecast: 36.500\n",
      "Standard Error: 0.368\n",
      "95% Interval: 36.332 to 37.773\n"
     ]
    }
   ],
   "source": [
    "# split into train and test sets\n",
    "X = patient.TEMP.values\n",
    "X = X.astype('float64')\n",
    "size = len(X) - 1\n",
    "train, test = X[0:size], X[size:]\n",
    "# fit an ARIMA model\n",
    "model = ARIMA(train, order=(1,1,2))\n",
    "model_fit = model.fit()\n",
    "# forecast\n",
    "result = model_fit.get_forecast()\n",
    "# summarize forecast and confidence intervals\n",
    "print('Expected: %.3f' % result.predicted_mean)\n",
    "print('Forecast: %.3f' % test[0])\n",
    "print('Standard Error: %.3f' % result.se_mean)\n",
    "ci = result.conf_int(0.05)\n",
    "print('95%% Interval: %.3f to %.3f' % (ci[0,0], ci[0,1]))"
   ]
  },
  {
   "cell_type": "code",
   "execution_count": 91,
   "metadata": {},
   "outputs": [
    {
     "name": "stdout",
     "output_type": "stream",
     "text": [
      "80.0% Confidence Interval: 37.052 between 36.581 and 37.524\n",
      "90.0% Confidence Interval: 37.052 between 36.448 and 37.657\n",
      "95.0% Confidence Interval: 37.052 between 36.332 and 37.773\n",
      "99.0% Confidence Interval: 37.052 between 36.105 and 38.000\n"
     ]
    }
   ],
   "source": [
    "# split data into train and test setes\n",
    "X = patient.TEMP.values\n",
    "X = X.astype('float64')\n",
    "size = len(X) - 1\n",
    "train, test = X[0:size], X[size:]\n",
    "\n",
    "# fit an ARIMA model\n",
    "model = ARIMA(train, order=(1,1,2))\n",
    "model_fit = model.fit()\n",
    "result = model_fit.get_forecast()\n",
    "forecast = result.predicted_mean\n",
    "\n",
    "# summarize confidence intervals\n",
    "intervals = [0.2, 0.1, 0.05, 0.01]\n",
    "for a in intervals:\n",
    "    ci = result.conf_int(alpha=a)\n",
    "    print('%.1f%% Confidence Interval: %.3f between %.3f and %.3f' % ((1-a)*100, forecast, ci[0,0], ci[0,1]))"
   ]
  },
  {
   "cell_type": "code",
   "execution_count": 94,
   "metadata": {},
   "outputs": [
    {
     "name": "stdout",
     "output_type": "stream",
     "text": [
      "Expected: 115.798\n",
      "Forecast: 120.000\n",
      "Standard Error: 9.561\n",
      "95% Interval: 97.059 to 134.538\n"
     ]
    }
   ],
   "source": [
    "# split into train and test sets\n",
    "X = patient.SBP.values\n",
    "X = X.astype('float64')\n",
    "size = len(X) - 1\n",
    "train, test = X[0:size], X[size:]\n",
    "# fit an ARIMA model\n",
    "model = ARIMA(train, order=(1,2,2))\n",
    "model_fit = model.fit()\n",
    "# forecast\n",
    "result = model_fit.get_forecast()\n",
    "# summarize forecast and confidence intervals\n",
    "print('Expected: %.3f' % result.predicted_mean)\n",
    "print('Forecast: %.3f' % test[0])\n",
    "print('Standard Error: %.3f' % result.se_mean)\n",
    "ci = result.conf_int(0.05)\n",
    "print('95%% Interval: %.3f to %.3f' % (ci[0,0], ci[0,1]))"
   ]
  },
  {
   "cell_type": "code",
   "execution_count": 95,
   "metadata": {},
   "outputs": [
    {
     "name": "stdout",
     "output_type": "stream",
     "text": [
      "80.0% Confidence Interval: 94.887 between 91.994 and 97.781\n",
      "90.0% Confidence Interval: 94.887 between 91.174 and 98.601\n",
      "95.0% Confidence Interval: 94.887 between 90.463 and 99.312\n",
      "99.0% Confidence Interval: 94.887 between 89.073 and 100.702\n"
     ]
    }
   ],
   "source": [
    "# split data into train and test setes\n",
    "X = patient.SpO2.values\n",
    "X = X.astype('float64')\n",
    "size = len(X) - 1\n",
    "train, test = X[0:size], X[size:]\n",
    "\n",
    "# fit an ARIMA model\n",
    "model = ARIMA(train, order=(1,2,2))\n",
    "model_fit = model.fit()\n",
    "result = model_fit.get_forecast()\n",
    "forecast = result.predicted_mean\n",
    "\n",
    "# summarize confidence intervals\n",
    "intervals = [0.2, 0.1, 0.05, 0.01]\n",
    "for a in intervals:\n",
    "    ci = result.conf_int(alpha=a)\n",
    "    print('%.1f%% Confidence Interval: %.3f between %.3f and %.3f' % ((1-a)*100, forecast, ci[0,0], ci[0,1]))"
   ]
  },
  {
   "cell_type": "code",
   "execution_count": 98,
   "metadata": {},
   "outputs": [
    {
     "name": "stdout",
     "output_type": "stream",
     "text": [
      "Expected: 94.887\n",
      "Forecast: 95.000\n",
      "Standard Error: 2.257\n",
      "95% Interval: 90.463 to 99.312\n"
     ]
    }
   ],
   "source": [
    "# split into train and test sets\n",
    "X = patient.SpO2.values\n",
    "X = X.astype('float64')\n",
    "size = len(X) - 1\n",
    "train, test = X[0:size], X[size:]\n",
    "# fit an ARIMA model\n",
    "model = ARIMA(train, order=(1,2,2))\n",
    "model_fit = model.fit()\n",
    "# forecast\n",
    "result = model_fit.get_forecast()\n",
    "# summarize forecast and confidence intervals\n",
    "print('Expected: %.3f' % result.predicted_mean)\n",
    "print('Forecast: %.3f' % test[0])\n",
    "print('Standard Error: %.3f' % result.se_mean)\n",
    "ci = result.conf_int(0.05)\n",
    "print('95%% Interval: %.3f to %.3f' % (ci[0,0], ci[0,1]))"
   ]
  },
  {
   "cell_type": "code",
   "execution_count": 82,
   "metadata": {},
   "outputs": [
    {
     "name": "stdout",
     "output_type": "stream",
     "text": [
      "80.0% Confidence Interval: 94.887 between 91.994 and 97.781\n",
      "90.0% Confidence Interval: 94.887 between 91.174 and 98.601\n",
      "95.0% Confidence Interval: 94.887 between 90.463 and 99.312\n",
      "99.0% Confidence Interval: 94.887 between 89.073 and 100.702\n"
     ]
    }
   ],
   "source": [
    "# split data into train and test setes\n",
    "X = patient.SpO2.values\n",
    "X = X.astype('float64')\n",
    "size = len(X) - 1\n",
    "train, test = X[0:size], X[size:]\n",
    "\n",
    "# fit an ARIMA model\n",
    "model = ARIMA(train, order=(1,2,2))\n",
    "model_fit = model.fit()\n",
    "result = model_fit.get_forecast()\n",
    "forecast = result.predicted_mean\n",
    "\n",
    "# summarize confidence intervals\n",
    "intervals = [0.2, 0.1, 0.05, 0.01]\n",
    "for a in intervals:\n",
    "    ci = result.conf_int(alpha=a)\n",
    "    print('%.1f%% Confidence Interval: %.3f between %.3f and %.3f' % ((1-a)*100, forecast, ci[0,0], ci[0,1]))"
   ]
  },
  {
   "cell_type": "code",
   "execution_count": 96,
   "metadata": {},
   "outputs": [
    {
     "name": "stdout",
     "output_type": "stream",
     "text": [
      "Expected: 99.921\n",
      "Forecast: 93.000\n",
      "Standard Error: 7.495\n",
      "95% Interval: 85.231 to 114.610\n"
     ]
    }
   ],
   "source": [
    "# split into train and test sets\n",
    "X = patient.HR.values\n",
    "X = X.astype('int64')\n",
    "size = len(X) - 1\n",
    "train, test = X[0:size], X[size:]\n",
    "# fit an ARIMA model\n",
    "model = ARIMA(train, order=(2,1,0))\n",
    "model_fit = model.fit()\n",
    "# forecast\n",
    "result = model_fit.get_forecast()\n",
    "# summarize forecast and confidence intervals\n",
    "print('Expected: %.3f' % result.predicted_mean)\n",
    "print('Forecast: %.3f' % test[0])\n",
    "print('Standard Error: %.3f' % result.se_mean)\n",
    "ci = result.conf_int(0.05)\n",
    "print('95%% Interval: %.3f to %.3f' % (ci[0,0], ci[0,1]))"
   ]
  },
  {
   "cell_type": "code",
   "execution_count": 84,
   "metadata": {},
   "outputs": [
    {
     "name": "stdout",
     "output_type": "stream",
     "text": [
      "80.0% Confidence Interval: 99.921 between 90.316 and 109.525\n",
      "90.0% Confidence Interval: 99.921 between 87.593 and 112.248\n",
      "95.0% Confidence Interval: 99.921 between 85.231 and 114.610\n",
      "99.0% Confidence Interval: 99.921 between 80.616 and 119.225\n"
     ]
    }
   ],
   "source": [
    "# split data into train and test setes\n",
    "X = patient.HR.values\n",
    "X = X.astype('int64')\n",
    "size = len(X) - 1\n",
    "train, test = X[0:size], X[size:]\n",
    "\n",
    "# fit an ARIMA model\n",
    "model = ARIMA(train, order=(2,1,0))\n",
    "model_fit = model.fit()\n",
    "result = model_fit.get_forecast()\n",
    "forecast = result.predicted_mean\n",
    "\n",
    "# summarize confidence intervals\n",
    "intervals = [0.2, 0.1, 0.05, 0.01]\n",
    "for a in intervals:\n",
    "    ci = result.conf_int(alpha=a)\n",
    "    print('%.1f%% Confidence Interval: %.3f between %.3f and %.3f' % ((1-a)*100, forecast, ci[0,0], ci[0,1]))"
   ]
  },
  {
   "cell_type": "code",
   "execution_count": 97,
   "metadata": {},
   "outputs": [
    {
     "name": "stdout",
     "output_type": "stream",
     "text": [
      "Expected: 19.347\n",
      "Forecast: 18.000\n",
      "Standard Error: 1.757\n",
      "95% Interval: 15.904 to 22.791\n"
     ]
    }
   ],
   "source": [
    "# split into train and test sets\n",
    "X = patient.RR.values\n",
    "X = X.astype('int64')\n",
    "size = len(X) - 1\n",
    "train, test = X[0:size], X[size:]\n",
    "# fit an ARIMA model\n",
    "model = ARIMA(train, order=(1,1,1))\n",
    "model_fit = model.fit()\n",
    "# forecast\n",
    "result = model_fit.get_forecast()\n",
    "# summarize forecast and confidence intervals\n",
    "print('Expected: %.3f' % result.predicted_mean)\n",
    "print('Forecast: %.3f' % test[0])\n",
    "print('Standard Error: %.3f' % result.se_mean)\n",
    "ci = result.conf_int(0.05)\n",
    "print('95%% Interval: %.3f to %.3f' % (ci[0,0], ci[0,1]))"
   ]
  },
  {
   "cell_type": "code",
   "execution_count": 85,
   "metadata": {},
   "outputs": [
    {
     "name": "stdout",
     "output_type": "stream",
     "text": [
      "80.0% Confidence Interval: 19.347 between 17.096 and 21.599\n",
      "90.0% Confidence Interval: 19.347 between 16.457 and 22.237\n",
      "95.0% Confidence Interval: 19.347 between 15.904 and 22.791\n",
      "99.0% Confidence Interval: 19.347 between 14.822 and 23.873\n"
     ]
    }
   ],
   "source": [
    "# split data into train and test setes\n",
    "X = patient.RR.values\n",
    "X = X.astype('int64')\n",
    "size = len(X) - 1\n",
    "train, test = X[0:size], X[size:]\n",
    "\n",
    "# fit an ARIMA model\n",
    "model = ARIMA(train, order=(1,1,1))\n",
    "model_fit = model.fit()\n",
    "result = model_fit.get_forecast()\n",
    "forecast = result.predicted_mean\n",
    "\n",
    "# summarize confidence intervals\n",
    "intervals = [0.2, 0.1, 0.05, 0.01]\n",
    "for a in intervals:\n",
    "    ci = result.conf_int(alpha=a)\n",
    "    print('%.1f%% Confidence Interval: %.3f between %.3f and %.3f' % ((1-a)*100, forecast, ci[0,0], ci[0,1]))"
   ]
  },
  {
   "cell_type": "markdown",
   "metadata": {},
   "source": [
    "### Plotting the confidence intervals"
   ]
  },
  {
   "cell_type": "code",
   "execution_count": 145,
   "metadata": {},
   "outputs": [
    {
     "data": {
      "image/png": "[encoded data removed]",
      "text/plain": [
       "<Figure size 432x288 with 1 Axes>"
      ]
     },
     "metadata": {
      "needs_background": "light"
     },
     "output_type": "display_data"
    }
   ],
   "source": [
    "# plot the confidence intervals for an ARIMA forecast\n",
    "from pandas import read_csv\n",
    "from matplotlib import pyplot\n",
    "from statsmodels.tsa.arima_model import ARIMA\n",
    "\n",
    "# split into train and test sets\n",
    "X = patient.TEMP.values\n",
    "X = X.astype('float64')\n",
    "size = len(X) - 1\n",
    "train, test = X[0:size], X[size:]\n",
    "# fit an ARIMA model\n",
    "model = ARIMA(train, order=(1,1,2))\n",
    "model_fit = model.fit()\n",
    "# plot some history and the forecast with confidence intervals \n",
    "model_fit.plot_predict(len(train)-10, len(train)+1) \n",
    "pyplot.legend(loc='bottom left')\n",
    "pyplot.title('Temperature patientID 1743')\n",
    "pyplot.xlabel('Previous 10 observations + 1 predicted value')\n",
    "pyplot.ylabel('Degrees Celsius')\n",
    "pyplot.show()"
   ]
  },
  {
   "cell_type": "code",
   "execution_count": 150,
   "metadata": {},
   "outputs": [
    {
     "ename": "ValueError",
     "evalue": "The computed initial MA coefficients are not invertible\nYou should induce invertibility, choose a different model order, or you can\npass your own start_params.",
     "output_type": "error",
     "traceback": [
      "\u001b[0;31m---------------------------------------------------------------------------\u001b[0m",
      "\u001b[0;31mValueError\u001b[0m                                Traceback (most recent call last)",
      "\u001b[0;32m<ipython-input-150-b7ff5412cc7d>\u001b[0m in \u001b[0;36m<module>\u001b[0;34m\u001b[0m\n\u001b[1;32m     11\u001b[0m \u001b[0;31m# fit an ARIMA model\u001b[0m\u001b[0;34m\u001b[0m\u001b[0;34m\u001b[0m\u001b[0;34m\u001b[0m\u001b[0m\n\u001b[1;32m     12\u001b[0m \u001b[0mmodel\u001b[0m \u001b[0;34m=\u001b[0m \u001b[0mARIMA\u001b[0m\u001b[0;34m(\u001b[0m\u001b[0mtrain\u001b[0m\u001b[0;34m,\u001b[0m \u001b[0morder\u001b[0m\u001b[0;34m=\u001b[0m\u001b[0;34m(\u001b[0m\u001b[0;36m1\u001b[0m\u001b[0;34m,\u001b[0m\u001b[0;36m2\u001b[0m\u001b[0;34m,\u001b[0m\u001b[0;36m2\u001b[0m\u001b[0;34m)\u001b[0m\u001b[0;34m)\u001b[0m\u001b[0;34m\u001b[0m\u001b[0;34m\u001b[0m\u001b[0m\n\u001b[0;32m---> 13\u001b[0;31m \u001b[0mmodel_fit\u001b[0m \u001b[0;34m=\u001b[0m \u001b[0mmodel\u001b[0m\u001b[0;34m.\u001b[0m\u001b[0mfit\u001b[0m\u001b[0;34m(\u001b[0m\u001b[0;34m)\u001b[0m\u001b[0;34m\u001b[0m\u001b[0;34m\u001b[0m\u001b[0m\n\u001b[0m\u001b[1;32m     14\u001b[0m \u001b[0;31m# plot some history and the forecast with confidence intervals\u001b[0m\u001b[0;34m\u001b[0m\u001b[0;34m\u001b[0m\u001b[0;34m\u001b[0m\u001b[0m\n\u001b[1;32m     15\u001b[0m \u001b[0mmodel_fit\u001b[0m\u001b[0;34m.\u001b[0m\u001b[0mplot_predict\u001b[0m\u001b[0;34m(\u001b[0m\u001b[0mlen\u001b[0m\u001b[0;34m(\u001b[0m\u001b[0mtrain\u001b[0m\u001b[0;34m)\u001b[0m\u001b[0;34m-\u001b[0m\u001b[0;36m10\u001b[0m\u001b[0;34m,\u001b[0m \u001b[0mlen\u001b[0m\u001b[0;34m(\u001b[0m\u001b[0mtrain\u001b[0m\u001b[0;34m)\u001b[0m\u001b[0;34m+\u001b[0m\u001b[0;36m1\u001b[0m\u001b[0;34m)\u001b[0m\u001b[0;34m\u001b[0m\u001b[0;34m\u001b[0m\u001b[0m\n",
      "\u001b[0;32m/opt/anaconda3/lib/python3.8/site-packages/statsmodels/tsa/arima_model.py\u001b[0m in \u001b[0;36mfit\u001b[0;34m(self, start_params, trend, method, transparams, solver, maxiter, full_output, disp, callback, start_ar_lags, **kwargs)\u001b[0m\n\u001b[1;32m   1195\u001b[0m             \u001b[0mIf\u001b[0m \u001b[0;32mTrue\u001b[0m\u001b[0;34m,\u001b[0m \u001b[0mconvergence\u001b[0m \u001b[0minformation\u001b[0m \u001b[0;32mis\u001b[0m \u001b[0mprinted\u001b[0m\u001b[0;34m.\u001b[0m  \u001b[0mFor\u001b[0m \u001b[0mthe\u001b[0m \u001b[0mdefault\u001b[0m\u001b[0;34m\u001b[0m\u001b[0;34m\u001b[0m\u001b[0m\n\u001b[1;32m   1196\u001b[0m             \u001b[0ml_bfgs_b\u001b[0m \u001b[0msolver\u001b[0m\u001b[0;34m,\u001b[0m \u001b[0mdisp\u001b[0m \u001b[0mcontrols\u001b[0m \u001b[0mthe\u001b[0m \u001b[0mfrequency\u001b[0m \u001b[0mof\u001b[0m \u001b[0mthe\u001b[0m \u001b[0moutput\u001b[0m \u001b[0mduring\u001b[0m\u001b[0;34m\u001b[0m\u001b[0;34m\u001b[0m\u001b[0m\n\u001b[0;32m-> 1197\u001b[0;31m             \u001b[0mthe\u001b[0m \u001b[0miterations\u001b[0m\u001b[0;34m.\u001b[0m \u001b[0mdisp\u001b[0m \u001b[0;34m<\u001b[0m \u001b[0;36m0\u001b[0m \u001b[0mmeans\u001b[0m \u001b[0mno\u001b[0m \u001b[0moutput\u001b[0m \u001b[0;32min\u001b[0m \u001b[0mthis\u001b[0m \u001b[0mcase\u001b[0m\u001b[0;34m.\u001b[0m\u001b[0;34m\u001b[0m\u001b[0;34m\u001b[0m\u001b[0m\n\u001b[0m\u001b[1;32m   1198\u001b[0m         \u001b[0mcallback\u001b[0m \u001b[0;34m:\u001b[0m \u001b[0mfunction\u001b[0m\u001b[0;34m,\u001b[0m \u001b[0moptional\u001b[0m\u001b[0;34m\u001b[0m\u001b[0;34m\u001b[0m\u001b[0m\n\u001b[1;32m   1199\u001b[0m             \u001b[0mCalled\u001b[0m \u001b[0mafter\u001b[0m \u001b[0meach\u001b[0m \u001b[0miteration\u001b[0m \u001b[0;32mas\u001b[0m \u001b[0mcallback\u001b[0m\u001b[0;34m(\u001b[0m\u001b[0mxk\u001b[0m\u001b[0;34m)\u001b[0m \u001b[0mwhere\u001b[0m \u001b[0mxk\u001b[0m \u001b[0;32mis\u001b[0m \u001b[0mthe\u001b[0m \u001b[0mcurrent\u001b[0m\u001b[0;34m\u001b[0m\u001b[0;34m\u001b[0m\u001b[0m\n",
      "\u001b[0;32m/opt/anaconda3/lib/python3.8/site-packages/statsmodels/tsa/arima_model.py\u001b[0m in \u001b[0;36mfit\u001b[0;34m(self, start_params, trend, method, transparams, solver, maxiter, full_output, disp, callback, start_ar_lags, **kwargs)\u001b[0m\n\u001b[1;32m    983\u001b[0m             \u001b[0;31m# Ensures only call once per ARMA instance\u001b[0m\u001b[0;34m\u001b[0m\u001b[0;34m\u001b[0m\u001b[0;34m\u001b[0m\u001b[0m\n\u001b[1;32m    984\u001b[0m             \u001b[0mk_trend\u001b[0m\u001b[0;34m,\u001b[0m \u001b[0mexog\u001b[0m \u001b[0;34m=\u001b[0m \u001b[0m_make_arma_exog\u001b[0m\u001b[0;34m(\u001b[0m\u001b[0mendog\u001b[0m\u001b[0;34m,\u001b[0m \u001b[0mself\u001b[0m\u001b[0;34m.\u001b[0m\u001b[0mexog\u001b[0m\u001b[0;34m,\u001b[0m \u001b[0mtrend\u001b[0m\u001b[0;34m)\u001b[0m\u001b[0;34m\u001b[0m\u001b[0;34m\u001b[0m\u001b[0m\n\u001b[0;32m--> 985\u001b[0;31m \u001b[0;34m\u001b[0m\u001b[0m\n\u001b[0m\u001b[1;32m    986\u001b[0m         \u001b[0;31m# Check has something to estimate\u001b[0m\u001b[0;34m\u001b[0m\u001b[0;34m\u001b[0m\u001b[0;34m\u001b[0m\u001b[0m\n\u001b[1;32m    987\u001b[0m         \u001b[0;32mif\u001b[0m \u001b[0mk_ar\u001b[0m \u001b[0;34m==\u001b[0m \u001b[0;36m0\u001b[0m \u001b[0;32mand\u001b[0m \u001b[0mk_ma\u001b[0m \u001b[0;34m==\u001b[0m \u001b[0;36m0\u001b[0m \u001b[0;32mand\u001b[0m \u001b[0mk_trend\u001b[0m \u001b[0;34m==\u001b[0m \u001b[0;36m0\u001b[0m \u001b[0;32mand\u001b[0m \u001b[0mk_exog\u001b[0m \u001b[0;34m==\u001b[0m \u001b[0;36m0\u001b[0m\u001b[0;34m:\u001b[0m\u001b[0;34m\u001b[0m\u001b[0;34m\u001b[0m\u001b[0m\n",
      "\u001b[0;32m/opt/anaconda3/lib/python3.8/site-packages/statsmodels/tsa/arima_model.py\u001b[0m in \u001b[0;36m_fit_start_params\u001b[0;34m(self, order, method, start_ar_lags)\u001b[0m\n\u001b[1;32m    575\u001b[0m             \u001b[0;32melse\u001b[0m\u001b[0;34m:\u001b[0m\u001b[0;34m\u001b[0m\u001b[0;34m\u001b[0m\u001b[0m\n\u001b[1;32m    576\u001b[0m                 \u001b[0mar_coeffs\u001b[0m \u001b[0;34m=\u001b[0m \u001b[0myule_walker\u001b[0m\u001b[0;34m(\u001b[0m\u001b[0mendog\u001b[0m\u001b[0;34m,\u001b[0m \u001b[0morder\u001b[0m\u001b[0;34m=\u001b[0m\u001b[0mq\u001b[0m\u001b[0;34m)\u001b[0m\u001b[0;34m[\u001b[0m\u001b[0;36m0\u001b[0m\u001b[0;34m]\u001b[0m\u001b[0;34m\u001b[0m\u001b[0;34m\u001b[0m\u001b[0m\n\u001b[0;32m--> 577\u001b[0;31m                 \u001b[0mar\u001b[0m \u001b[0;34m=\u001b[0m \u001b[0mnp\u001b[0m\u001b[0;34m.\u001b[0m\u001b[0mr_\u001b[0m\u001b[0;34m[\u001b[0m\u001b[0;34m[\u001b[0m\u001b[0;36m1\u001b[0m\u001b[0;34m]\u001b[0m\u001b[0;34m,\u001b[0m \u001b[0;34m-\u001b[0m\u001b[0mar_coeffs\u001b[0m\u001b[0;34m.\u001b[0m\u001b[0msqueeze\u001b[0m\u001b[0;34m(\u001b[0m\u001b[0;34m)\u001b[0m\u001b[0;34m]\u001b[0m\u001b[0;34m\u001b[0m\u001b[0;34m\u001b[0m\u001b[0m\n\u001b[0m\u001b[1;32m    578\u001b[0m                 \u001b[0mstart_params\u001b[0m\u001b[0;34m[\u001b[0m\u001b[0mk\u001b[0m \u001b[0;34m+\u001b[0m \u001b[0mp\u001b[0m\u001b[0;34m:\u001b[0m\u001b[0mk\u001b[0m \u001b[0;34m+\u001b[0m \u001b[0mp\u001b[0m \u001b[0;34m+\u001b[0m \u001b[0mq\u001b[0m\u001b[0;34m]\u001b[0m \u001b[0;34m=\u001b[0m \u001b[0marma2ma\u001b[0m\u001b[0;34m(\u001b[0m\u001b[0mar\u001b[0m\u001b[0;34m,\u001b[0m \u001b[0;34m[\u001b[0m\u001b[0;36m1\u001b[0m\u001b[0;34m]\u001b[0m\u001b[0;34m,\u001b[0m \u001b[0mlags\u001b[0m\u001b[0;34m=\u001b[0m\u001b[0mq\u001b[0m\u001b[0;34m+\u001b[0m\u001b[0;36m1\u001b[0m\u001b[0;34m)\u001b[0m\u001b[0;34m[\u001b[0m\u001b[0;36m1\u001b[0m\u001b[0;34m:\u001b[0m\u001b[0;34m]\u001b[0m\u001b[0;34m\u001b[0m\u001b[0;34m\u001b[0m\u001b[0m\n\u001b[1;32m    579\u001b[0m         \u001b[0;32mif\u001b[0m \u001b[0mq\u001b[0m \u001b[0;34m==\u001b[0m \u001b[0;36m0\u001b[0m \u001b[0;32mand\u001b[0m \u001b[0mp\u001b[0m \u001b[0;34m!=\u001b[0m \u001b[0;36m0\u001b[0m\u001b[0;34m:\u001b[0m\u001b[0;34m\u001b[0m\u001b[0;34m\u001b[0m\u001b[0m\n",
      "\u001b[0;32m/opt/anaconda3/lib/python3.8/site-packages/statsmodels/tsa/arima_model.py\u001b[0m in \u001b[0;36m_fit_start_params_hr\u001b[0;34m(self, order, start_ar_lags)\u001b[0m\n\u001b[1;32m    560\u001b[0m                 resid = endog[p_tmp:] - np.dot(lagmat(endog, p_tmp,\n\u001b[1;32m    561\u001b[0m                                                       trim='both'),\n\u001b[0;32m--> 562\u001b[0;31m                                                arcoefs_tmp)\n\u001b[0m\u001b[1;32m    563\u001b[0m                 \u001b[0;32mif\u001b[0m \u001b[0mp\u001b[0m \u001b[0;34m<\u001b[0m \u001b[0mp_tmp\u001b[0m \u001b[0;34m+\u001b[0m \u001b[0mq\u001b[0m\u001b[0;34m:\u001b[0m\u001b[0;34m\u001b[0m\u001b[0;34m\u001b[0m\u001b[0m\n\u001b[1;32m    564\u001b[0m                     \u001b[0mendog_start\u001b[0m \u001b[0;34m=\u001b[0m \u001b[0mp_tmp\u001b[0m \u001b[0;34m+\u001b[0m \u001b[0mq\u001b[0m \u001b[0;34m-\u001b[0m \u001b[0mp\u001b[0m\u001b[0;34m\u001b[0m\u001b[0;34m\u001b[0m\u001b[0m\n",
      "\u001b[0;31mValueError\u001b[0m: The computed initial MA coefficients are not invertible\nYou should induce invertibility, choose a different model order, or you can\npass your own start_params."
     ]
    }
   ],
   "source": [
    "# plot the confidence intervals for an ARIMA forecast\n",
    "from pandas import read_csv\n",
    "from matplotlib import pyplot\n",
    "from statsmodels.tsa.arima_model import ARIMA\n",
    "\n",
    "# split into train and test sets\n",
    "X = patient.SBP.values\n",
    "X = X.astype('float64')\n",
    "size = len(X) - 1\n",
    "train, test = X[0:size], X[size:]\n",
    "# fit an ARIMA model\n",
    "model = ARIMA(train, order=(1,2,2))\n",
    "model_fit = model.fit()\n",
    "# plot some history and the forecast with confidence intervals \n",
    "model_fit.plot_predict(len(train)-10, len(train)+1) \n",
    "pyplot.legend(loc='upper left')\n",
    "pyplot.show()"
   ]
  },
  {
   "cell_type": "code",
   "execution_count": 148,
   "metadata": {},
   "outputs": [
    {
     "ename": "ValueError",
     "evalue": "The computed initial MA coefficients are not invertible\nYou should induce invertibility, choose a different model order, or you can\npass your own start_params.",
     "output_type": "error",
     "traceback": [
      "\u001b[0;31m---------------------------------------------------------------------------\u001b[0m",
      "\u001b[0;31mValueError\u001b[0m                                Traceback (most recent call last)",
      "\u001b[0;32m<ipython-input-148-b73d393cde43>\u001b[0m in \u001b[0;36m<module>\u001b[0;34m\u001b[0m\n\u001b[1;32m     11\u001b[0m \u001b[0;31m# fit an ARIMA model\u001b[0m\u001b[0;34m\u001b[0m\u001b[0;34m\u001b[0m\u001b[0;34m\u001b[0m\u001b[0m\n\u001b[1;32m     12\u001b[0m \u001b[0mmodel\u001b[0m \u001b[0;34m=\u001b[0m \u001b[0mARIMA\u001b[0m\u001b[0;34m(\u001b[0m\u001b[0mtrain\u001b[0m\u001b[0;34m,\u001b[0m \u001b[0morder\u001b[0m\u001b[0;34m=\u001b[0m\u001b[0;34m(\u001b[0m\u001b[0;36m1\u001b[0m\u001b[0;34m,\u001b[0m\u001b[0;36m2\u001b[0m\u001b[0;34m,\u001b[0m\u001b[0;36m2\u001b[0m\u001b[0;34m)\u001b[0m\u001b[0;34m)\u001b[0m\u001b[0;34m\u001b[0m\u001b[0;34m\u001b[0m\u001b[0m\n\u001b[0;32m---> 13\u001b[0;31m \u001b[0mmodel_fit\u001b[0m \u001b[0;34m=\u001b[0m \u001b[0mmodel\u001b[0m\u001b[0;34m.\u001b[0m\u001b[0mfit\u001b[0m\u001b[0;34m(\u001b[0m\u001b[0;34m)\u001b[0m\u001b[0;34m\u001b[0m\u001b[0;34m\u001b[0m\u001b[0m\n\u001b[0m\u001b[1;32m     14\u001b[0m \u001b[0;31m# plot some history and the forecast with confidence intervals\u001b[0m\u001b[0;34m\u001b[0m\u001b[0;34m\u001b[0m\u001b[0;34m\u001b[0m\u001b[0m\n\u001b[1;32m     15\u001b[0m \u001b[0mmodel_fit\u001b[0m\u001b[0;34m.\u001b[0m\u001b[0mplot_predict\u001b[0m\u001b[0;34m(\u001b[0m\u001b[0mlen\u001b[0m\u001b[0;34m(\u001b[0m\u001b[0mtrain\u001b[0m\u001b[0;34m)\u001b[0m\u001b[0;34m-\u001b[0m\u001b[0;36m10\u001b[0m\u001b[0;34m,\u001b[0m \u001b[0mlen\u001b[0m\u001b[0;34m(\u001b[0m\u001b[0mtrain\u001b[0m\u001b[0;34m)\u001b[0m\u001b[0;34m+\u001b[0m\u001b[0;36m1\u001b[0m\u001b[0;34m)\u001b[0m\u001b[0;34m\u001b[0m\u001b[0;34m\u001b[0m\u001b[0m\n",
      "\u001b[0;32m/opt/anaconda3/lib/python3.8/site-packages/statsmodels/tsa/arima_model.py\u001b[0m in \u001b[0;36mfit\u001b[0;34m(self, start_params, trend, method, transparams, solver, maxiter, full_output, disp, callback, start_ar_lags, **kwargs)\u001b[0m\n\u001b[1;32m   1195\u001b[0m             \u001b[0mIf\u001b[0m \u001b[0;32mTrue\u001b[0m\u001b[0;34m,\u001b[0m \u001b[0mconvergence\u001b[0m \u001b[0minformation\u001b[0m \u001b[0;32mis\u001b[0m \u001b[0mprinted\u001b[0m\u001b[0;34m.\u001b[0m  \u001b[0mFor\u001b[0m \u001b[0mthe\u001b[0m \u001b[0mdefault\u001b[0m\u001b[0;34m\u001b[0m\u001b[0;34m\u001b[0m\u001b[0m\n\u001b[1;32m   1196\u001b[0m             \u001b[0ml_bfgs_b\u001b[0m \u001b[0msolver\u001b[0m\u001b[0;34m,\u001b[0m \u001b[0mdisp\u001b[0m \u001b[0mcontrols\u001b[0m \u001b[0mthe\u001b[0m \u001b[0mfrequency\u001b[0m \u001b[0mof\u001b[0m \u001b[0mthe\u001b[0m \u001b[0moutput\u001b[0m \u001b[0mduring\u001b[0m\u001b[0;34m\u001b[0m\u001b[0;34m\u001b[0m\u001b[0m\n\u001b[0;32m-> 1197\u001b[0;31m             \u001b[0mthe\u001b[0m \u001b[0miterations\u001b[0m\u001b[0;34m.\u001b[0m \u001b[0mdisp\u001b[0m \u001b[0;34m<\u001b[0m \u001b[0;36m0\u001b[0m \u001b[0mmeans\u001b[0m \u001b[0mno\u001b[0m \u001b[0moutput\u001b[0m \u001b[0;32min\u001b[0m \u001b[0mthis\u001b[0m \u001b[0mcase\u001b[0m\u001b[0;34m.\u001b[0m\u001b[0;34m\u001b[0m\u001b[0;34m\u001b[0m\u001b[0m\n\u001b[0m\u001b[1;32m   1198\u001b[0m         \u001b[0mcallback\u001b[0m \u001b[0;34m:\u001b[0m \u001b[0mfunction\u001b[0m\u001b[0;34m,\u001b[0m \u001b[0moptional\u001b[0m\u001b[0;34m\u001b[0m\u001b[0;34m\u001b[0m\u001b[0m\n\u001b[1;32m   1199\u001b[0m             \u001b[0mCalled\u001b[0m \u001b[0mafter\u001b[0m \u001b[0meach\u001b[0m \u001b[0miteration\u001b[0m \u001b[0;32mas\u001b[0m \u001b[0mcallback\u001b[0m\u001b[0;34m(\u001b[0m\u001b[0mxk\u001b[0m\u001b[0;34m)\u001b[0m \u001b[0mwhere\u001b[0m \u001b[0mxk\u001b[0m \u001b[0;32mis\u001b[0m \u001b[0mthe\u001b[0m \u001b[0mcurrent\u001b[0m\u001b[0;34m\u001b[0m\u001b[0;34m\u001b[0m\u001b[0m\n",
      "\u001b[0;32m/opt/anaconda3/lib/python3.8/site-packages/statsmodels/tsa/arima_model.py\u001b[0m in \u001b[0;36mfit\u001b[0;34m(self, start_params, trend, method, transparams, solver, maxiter, full_output, disp, callback, start_ar_lags, **kwargs)\u001b[0m\n\u001b[1;32m    983\u001b[0m             \u001b[0;31m# Ensures only call once per ARMA instance\u001b[0m\u001b[0;34m\u001b[0m\u001b[0;34m\u001b[0m\u001b[0;34m\u001b[0m\u001b[0m\n\u001b[1;32m    984\u001b[0m             \u001b[0mk_trend\u001b[0m\u001b[0;34m,\u001b[0m \u001b[0mexog\u001b[0m \u001b[0;34m=\u001b[0m \u001b[0m_make_arma_exog\u001b[0m\u001b[0;34m(\u001b[0m\u001b[0mendog\u001b[0m\u001b[0;34m,\u001b[0m \u001b[0mself\u001b[0m\u001b[0;34m.\u001b[0m\u001b[0mexog\u001b[0m\u001b[0;34m,\u001b[0m \u001b[0mtrend\u001b[0m\u001b[0;34m)\u001b[0m\u001b[0;34m\u001b[0m\u001b[0;34m\u001b[0m\u001b[0m\n\u001b[0;32m--> 985\u001b[0;31m \u001b[0;34m\u001b[0m\u001b[0m\n\u001b[0m\u001b[1;32m    986\u001b[0m         \u001b[0;31m# Check has something to estimate\u001b[0m\u001b[0;34m\u001b[0m\u001b[0;34m\u001b[0m\u001b[0;34m\u001b[0m\u001b[0m\n\u001b[1;32m    987\u001b[0m         \u001b[0;32mif\u001b[0m \u001b[0mk_ar\u001b[0m \u001b[0;34m==\u001b[0m \u001b[0;36m0\u001b[0m \u001b[0;32mand\u001b[0m \u001b[0mk_ma\u001b[0m \u001b[0;34m==\u001b[0m \u001b[0;36m0\u001b[0m \u001b[0;32mand\u001b[0m \u001b[0mk_trend\u001b[0m \u001b[0;34m==\u001b[0m \u001b[0;36m0\u001b[0m \u001b[0;32mand\u001b[0m \u001b[0mk_exog\u001b[0m \u001b[0;34m==\u001b[0m \u001b[0;36m0\u001b[0m\u001b[0;34m:\u001b[0m\u001b[0;34m\u001b[0m\u001b[0;34m\u001b[0m\u001b[0m\n",
      "\u001b[0;32m/opt/anaconda3/lib/python3.8/site-packages/statsmodels/tsa/arima_model.py\u001b[0m in \u001b[0;36m_fit_start_params\u001b[0;34m(self, order, method, start_ar_lags)\u001b[0m\n\u001b[1;32m    575\u001b[0m             \u001b[0;32melse\u001b[0m\u001b[0;34m:\u001b[0m\u001b[0;34m\u001b[0m\u001b[0;34m\u001b[0m\u001b[0m\n\u001b[1;32m    576\u001b[0m                 \u001b[0mar_coeffs\u001b[0m \u001b[0;34m=\u001b[0m \u001b[0myule_walker\u001b[0m\u001b[0;34m(\u001b[0m\u001b[0mendog\u001b[0m\u001b[0;34m,\u001b[0m \u001b[0morder\u001b[0m\u001b[0;34m=\u001b[0m\u001b[0mq\u001b[0m\u001b[0;34m)\u001b[0m\u001b[0;34m[\u001b[0m\u001b[0;36m0\u001b[0m\u001b[0;34m]\u001b[0m\u001b[0;34m\u001b[0m\u001b[0;34m\u001b[0m\u001b[0m\n\u001b[0;32m--> 577\u001b[0;31m                 \u001b[0mar\u001b[0m \u001b[0;34m=\u001b[0m \u001b[0mnp\u001b[0m\u001b[0;34m.\u001b[0m\u001b[0mr_\u001b[0m\u001b[0;34m[\u001b[0m\u001b[0;34m[\u001b[0m\u001b[0;36m1\u001b[0m\u001b[0;34m]\u001b[0m\u001b[0;34m,\u001b[0m \u001b[0;34m-\u001b[0m\u001b[0mar_coeffs\u001b[0m\u001b[0;34m.\u001b[0m\u001b[0msqueeze\u001b[0m\u001b[0;34m(\u001b[0m\u001b[0;34m)\u001b[0m\u001b[0;34m]\u001b[0m\u001b[0;34m\u001b[0m\u001b[0;34m\u001b[0m\u001b[0m\n\u001b[0m\u001b[1;32m    578\u001b[0m                 \u001b[0mstart_params\u001b[0m\u001b[0;34m[\u001b[0m\u001b[0mk\u001b[0m \u001b[0;34m+\u001b[0m \u001b[0mp\u001b[0m\u001b[0;34m:\u001b[0m\u001b[0mk\u001b[0m \u001b[0;34m+\u001b[0m \u001b[0mp\u001b[0m \u001b[0;34m+\u001b[0m \u001b[0mq\u001b[0m\u001b[0;34m]\u001b[0m \u001b[0;34m=\u001b[0m \u001b[0marma2ma\u001b[0m\u001b[0;34m(\u001b[0m\u001b[0mar\u001b[0m\u001b[0;34m,\u001b[0m \u001b[0;34m[\u001b[0m\u001b[0;36m1\u001b[0m\u001b[0;34m]\u001b[0m\u001b[0;34m,\u001b[0m \u001b[0mlags\u001b[0m\u001b[0;34m=\u001b[0m\u001b[0mq\u001b[0m\u001b[0;34m+\u001b[0m\u001b[0;36m1\u001b[0m\u001b[0;34m)\u001b[0m\u001b[0;34m[\u001b[0m\u001b[0;36m1\u001b[0m\u001b[0;34m:\u001b[0m\u001b[0;34m]\u001b[0m\u001b[0;34m\u001b[0m\u001b[0;34m\u001b[0m\u001b[0m\n\u001b[1;32m    579\u001b[0m         \u001b[0;32mif\u001b[0m \u001b[0mq\u001b[0m \u001b[0;34m==\u001b[0m \u001b[0;36m0\u001b[0m \u001b[0;32mand\u001b[0m \u001b[0mp\u001b[0m \u001b[0;34m!=\u001b[0m \u001b[0;36m0\u001b[0m\u001b[0;34m:\u001b[0m\u001b[0;34m\u001b[0m\u001b[0;34m\u001b[0m\u001b[0m\n",
      "\u001b[0;32m/opt/anaconda3/lib/python3.8/site-packages/statsmodels/tsa/arima_model.py\u001b[0m in \u001b[0;36m_fit_start_params_hr\u001b[0;34m(self, order, start_ar_lags)\u001b[0m\n\u001b[1;32m    560\u001b[0m                 resid = endog[p_tmp:] - np.dot(lagmat(endog, p_tmp,\n\u001b[1;32m    561\u001b[0m                                                       trim='both'),\n\u001b[0;32m--> 562\u001b[0;31m                                                arcoefs_tmp)\n\u001b[0m\u001b[1;32m    563\u001b[0m                 \u001b[0;32mif\u001b[0m \u001b[0mp\u001b[0m \u001b[0;34m<\u001b[0m \u001b[0mp_tmp\u001b[0m \u001b[0;34m+\u001b[0m \u001b[0mq\u001b[0m\u001b[0;34m:\u001b[0m\u001b[0;34m\u001b[0m\u001b[0;34m\u001b[0m\u001b[0m\n\u001b[1;32m    564\u001b[0m                     \u001b[0mendog_start\u001b[0m \u001b[0;34m=\u001b[0m \u001b[0mp_tmp\u001b[0m \u001b[0;34m+\u001b[0m \u001b[0mq\u001b[0m \u001b[0;34m-\u001b[0m \u001b[0mp\u001b[0m\u001b[0;34m\u001b[0m\u001b[0;34m\u001b[0m\u001b[0m\n",
      "\u001b[0;31mValueError\u001b[0m: The computed initial MA coefficients are not invertible\nYou should induce invertibility, choose a different model order, or you can\npass your own start_params."
     ]
    }
   ],
   "source": [
    "# plot the confidence intervals for an ARIMA forecast\n",
    "from pandas import read_csv\n",
    "from matplotlib import pyplot\n",
    "from statsmodels.tsa.arima_model import ARIMA\n",
    "\n",
    "# split into train and test sets\n",
    "X = patient.SpO2.values\n",
    "X = X.astype('float64')\n",
    "size = len(X) - 1\n",
    "train, test = X[0:size], X[size:]\n",
    "# fit an ARIMA model\n",
    "model = ARIMA(train, order=(1,2,2))\n",
    "model_fit = model.fit()\n",
    "# plot some history and the forecast with confidence intervals \n",
    "model_fit.plot_predict(len(train)-10, len(train)+1) \n",
    "pyplot.legend(loc='upper left')\n",
    "pyplot.show()"
   ]
  },
  {
   "cell_type": "code",
   "execution_count": 143,
   "metadata": {},
   "outputs": [
    {
     "data": {
      "image/png": "[encoded data removed]",
      "text/plain": [
       "<Figure size 432x288 with 1 Axes>"
      ]
     },
     "metadata": {
      "needs_background": "light"
     },
     "output_type": "display_data"
    }
   ],
   "source": [
    "# plot the confidence intervals for an ARIMA forecast\n",
    "from pandas import read_csv\n",
    "from matplotlib import pyplot\n",
    "from statsmodels.tsa.arima_model import ARIMA\n",
    "\n",
    "# split into train and test sets\n",
    "X = patient.HR.values\n",
    "X = X.astype('int64')\n",
    "size = len(X) - 1\n",
    "train, test = X[0:size], X[size:]\n",
    "# fit an ARIMA model\n",
    "model = ARIMA(train, order=(2,1,0))\n",
    "model_fit = model.fit()\n",
    "# plot some history and the forecast with confidence intervals \n",
    "model_fit.plot_predict(len(train)-10, len(train)+1) \n",
    "pyplot.legend(loc='upper left')\n",
    "pyplot.title('Haert rate patientID 1743')\n",
    "pyplot.xlabel('Previous 10 observations + 1 predicted value')\n",
    "pyplot.ylabel('Bpm')\n",
    "pyplot.show()"
   ]
  },
  {
   "cell_type": "code",
   "execution_count": 146,
   "metadata": {},
   "outputs": [
    {
     "data": {
      "image/png": "[encoded data removed]",
      "text/plain": [
       "<Figure size 432x288 with 1 Axes>"
      ]
     },
     "metadata": {
      "needs_background": "light"
     },
     "output_type": "display_data"
    }
   ],
   "source": [
    "# plot the confidence intervals for an ARIMA forecast\n",
    "from pandas import read_csv\n",
    "from matplotlib import pyplot\n",
    "from statsmodels.tsa.arima_model import ARIMA\n",
    "\n",
    "# split into train and test sets\n",
    "X = patient.RR.values\n",
    "X = X.astype('int64')\n",
    "size = len(X) - 1\n",
    "train, test = X[0:size], X[size:]\n",
    "# fit an ARIMA model\n",
    "model = ARIMA(train, order=(1,1,1))\n",
    "model_fit = model.fit()\n",
    "# plot some history and the forecast with confidence intervals \n",
    "model_fit.plot_predict(len(train)-10, len(train)+1) \n",
    "pyplot.title('Respiratory rate patientID 1743')\n",
    "pyplot.ylabel('Breaths/min')\n",
    "pyplot.xlabel('Previous 10 observations + 1 predicted value')\n",
    "pyplot.legend(loc='upper left')\n",
    "pyplot.show()"
   ]
  }
 ],
 "metadata": {
  "kernelspec": {
   "display_name": "Python 3",
   "language": "python",
   "name": "python3"
  },
  "language_info": {
   "codemirror_mode": {
    "name": "ipython",
    "version": 3
   },
   "file_extension": ".py",
   "mimetype": "text/x-python",
   "name": "python",
   "nbconvert_exporter": "python",
   "pygments_lexer": "ipython3",
   "version": "3.8.3"
  }
 },
 "nbformat": 4,
 "nbformat_minor": 4
}
