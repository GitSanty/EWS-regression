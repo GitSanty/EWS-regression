{
 "cells": [
  {
   "cell_type": "markdown",
   "metadata": {},
   "source": [
    "### Script ARIMA model"
   ]
  },
  {
   "cell_type": "markdown",
   "metadata": {},
   "source": [
    "#### Import libraries"
   ]
  },
  {
   "cell_type": "code",
   "execution_count": 29,
   "metadata": {},
   "outputs": [],
   "source": [
    "import pandas as pd\n",
    "import numpy as np\n",
    "import matplotlib.pyplot as plt\n",
    "%matplotlib inline\n",
    "from sklearn.preprocessing import LabelEncoder\n",
    "import warnings\n",
    "from math import sqrt\n",
    "from statsmodels.tsa.arima.model import ARIMA\n",
    "from sklearn.metrics import mean_squared_error\n",
    "from pandas import DataFrame\n",
    "from pmdarima.arima import auto_arima\n",
    "from pmdarima.arima import ADFTest"
   ]
  },
  {
   "cell_type": "markdown",
   "metadata": {},
   "source": [
    "#### Load the data"
   ]
  },
  {
   "cell_type": "code",
   "execution_count": 2,
   "metadata": {},
   "outputs": [],
   "source": [
    "data = pd.read_csv('/Users/nicolasdemuynck/BeCode/GNT-ARAI-1.25/Content/00.Use cases/arinti/20200124_ews_observations.csv',\n",
    "                   low_memory=False)"
   ]
  },
  {
   "cell_type": "markdown",
   "metadata": {},
   "source": [
    "#### Data preprocessing"
   ]
  },
  {
   "cell_type": "code",
   "execution_count": 3,
   "metadata": {},
   "outputs": [],
   "source": [
    "data.dropna(inplace=True)"
   ]
  },
  {
   "cell_type": "code",
   "execution_count": 4,
   "metadata": {},
   "outputs": [
    {
     "data": {
      "text/plain": [
       "PatientId                   int64\n",
       "ObservationDate    datetime64[ns]\n",
       "EwsProcedure               object\n",
       "EWS_Total                   int64\n",
       "SBP                       float64\n",
       "SBP_Score                 float64\n",
       "LOC                        object\n",
       "LOC_Score                   int64\n",
       "SpO2                      float64\n",
       "SpO2_Score                float64\n",
       "Add_O2                     object\n",
       "Add_O2_Score              float64\n",
       "HR                          int64\n",
       "HR_Score                    int64\n",
       "RR                          int64\n",
       "RR_Score                    int64\n",
       "TEMP                      float64\n",
       "TEMP_Score                  int64\n",
       "dtype: object"
      ]
     },
     "execution_count": 4,
     "metadata": {},
     "output_type": "execute_result"
    }
   ],
   "source": [
    "data['ObservationDate'] =  pd.to_datetime(data['ObservationDate']) #make datetime object\n",
    "data.dtypes"
   ]
  },
  {
   "cell_type": "code",
   "execution_count": 5,
   "metadata": {},
   "outputs": [
    {
     "name": "stdout",
     "output_type": "stream",
     "text": [
      "['ALERT' 'NEW_CONFUSION' 'VOICE' 'PAIN' 'UNRESPONSIVE']\n"
     ]
    }
   ],
   "source": [
    "print(data.LOC.unique())"
   ]
  },
  {
   "cell_type": "code",
   "execution_count": 6,
   "metadata": {},
   "outputs": [
    {
     "name": "stdout",
     "output_type": "stream",
     "text": [
      "[0 1 4 2 3]\n"
     ]
    }
   ],
   "source": [
    "encoder = LabelEncoder ()\n",
    "\n",
    "for i in data.columns:\n",
    "    if data[i].dtype == object:\n",
    "        data[i] = encoder.fit_transform(data[i])\n",
    "print(data.LOC.unique())"
   ]
  },
  {
   "cell_type": "code",
   "execution_count": 7,
   "metadata": {},
   "outputs": [
    {
     "data": {
      "text/html": [
       "<div>\n",
       "<style scoped>\n",
       "    .dataframe tbody tr th:only-of-type {\n",
       "        vertical-align: middle;\n",
       "    }\n",
       "\n",
       "    .dataframe tbody tr th {\n",
       "        vertical-align: top;\n",
       "    }\n",
       "\n",
       "    .dataframe thead th {\n",
       "        text-align: right;\n",
       "    }\n",
       "</style>\n",
       "<table border=\"1\" class=\"dataframe\">\n",
       "  <thead>\n",
       "    <tr style=\"text-align: right;\">\n",
       "      <th></th>\n",
       "      <th>ObservationDate</th>\n",
       "      <th>PatientId</th>\n",
       "      <th>EWS_Total</th>\n",
       "      <th>SBP</th>\n",
       "      <th>LOC</th>\n",
       "      <th>SpO2</th>\n",
       "      <th>HR</th>\n",
       "      <th>RR</th>\n",
       "      <th>TEMP</th>\n",
       "    </tr>\n",
       "  </thead>\n",
       "  <tbody>\n",
       "    <tr>\n",
       "      <th>0</th>\n",
       "      <td>2019-05-01 13:27:50</td>\n",
       "      <td>29</td>\n",
       "      <td>0</td>\n",
       "      <td>143.0</td>\n",
       "      <td>0</td>\n",
       "      <td>96.0</td>\n",
       "      <td>80</td>\n",
       "      <td>18</td>\n",
       "      <td>36.6</td>\n",
       "    </tr>\n",
       "    <tr>\n",
       "      <th>2</th>\n",
       "      <td>2019-05-01 15:54:27</td>\n",
       "      <td>31</td>\n",
       "      <td>1</td>\n",
       "      <td>117.0</td>\n",
       "      <td>0</td>\n",
       "      <td>95.0</td>\n",
       "      <td>75</td>\n",
       "      <td>14</td>\n",
       "      <td>37.3</td>\n",
       "    </tr>\n",
       "    <tr>\n",
       "      <th>4</th>\n",
       "      <td>2019-05-01 17:03:16</td>\n",
       "      <td>33</td>\n",
       "      <td>0</td>\n",
       "      <td>135.0</td>\n",
       "      <td>0</td>\n",
       "      <td>97.0</td>\n",
       "      <td>89</td>\n",
       "      <td>14</td>\n",
       "      <td>36.1</td>\n",
       "    </tr>\n",
       "    <tr>\n",
       "      <th>8</th>\n",
       "      <td>2019-05-01 21:08:05</td>\n",
       "      <td>32</td>\n",
       "      <td>0</td>\n",
       "      <td>125.0</td>\n",
       "      <td>0</td>\n",
       "      <td>97.0</td>\n",
       "      <td>87</td>\n",
       "      <td>14</td>\n",
       "      <td>37.1</td>\n",
       "    </tr>\n",
       "    <tr>\n",
       "      <th>10</th>\n",
       "      <td>2019-05-01 21:13:21</td>\n",
       "      <td>34</td>\n",
       "      <td>1</td>\n",
       "      <td>117.0</td>\n",
       "      <td>0</td>\n",
       "      <td>95.0</td>\n",
       "      <td>64</td>\n",
       "      <td>13</td>\n",
       "      <td>36.6</td>\n",
       "    </tr>\n",
       "  </tbody>\n",
       "</table>\n",
       "</div>"
      ],
      "text/plain": [
       "       ObservationDate  PatientId  EWS_Total    SBP  LOC  SpO2  HR  RR  TEMP\n",
       "0  2019-05-01 13:27:50         29          0  143.0    0  96.0  80  18  36.6\n",
       "2  2019-05-01 15:54:27         31          1  117.0    0  95.0  75  14  37.3\n",
       "4  2019-05-01 17:03:16         33          0  135.0    0  97.0  89  14  36.1\n",
       "8  2019-05-01 21:08:05         32          0  125.0    0  97.0  87  14  37.1\n",
       "10 2019-05-01 21:13:21         34          1  117.0    0  95.0  64  13  36.6"
      ]
     },
     "execution_count": 7,
     "metadata": {},
     "output_type": "execute_result"
    }
   ],
   "source": [
    "df = data[['ObservationDate','PatientId', 'EWS_Total', 'SBP', 'LOC', 'SpO2', 'HR', 'RR','TEMP']]\n",
    "df.head(5)"
   ]
  },
  {
   "cell_type": "code",
   "execution_count": 8,
   "metadata": {},
   "outputs": [
    {
     "data": {
      "text/html": [
       "<div>\n",
       "<style scoped>\n",
       "    .dataframe tbody tr th:only-of-type {\n",
       "        vertical-align: middle;\n",
       "    }\n",
       "\n",
       "    .dataframe tbody tr th {\n",
       "        vertical-align: top;\n",
       "    }\n",
       "\n",
       "    .dataframe thead th {\n",
       "        text-align: right;\n",
       "    }\n",
       "</style>\n",
       "<table border=\"1\" class=\"dataframe\">\n",
       "  <thead>\n",
       "    <tr style=\"text-align: right;\">\n",
       "      <th></th>\n",
       "      <th>PatientId</th>\n",
       "      <th>EWS_Total</th>\n",
       "      <th>SBP</th>\n",
       "      <th>LOC</th>\n",
       "      <th>SpO2</th>\n",
       "      <th>HR</th>\n",
       "      <th>RR</th>\n",
       "      <th>TEMP</th>\n",
       "    </tr>\n",
       "    <tr>\n",
       "      <th>ObservationDate</th>\n",
       "      <th></th>\n",
       "      <th></th>\n",
       "      <th></th>\n",
       "      <th></th>\n",
       "      <th></th>\n",
       "      <th></th>\n",
       "      <th></th>\n",
       "      <th></th>\n",
       "    </tr>\n",
       "  </thead>\n",
       "  <tbody>\n",
       "    <tr>\n",
       "      <th>2019-05-01 13:27:50</th>\n",
       "      <td>29</td>\n",
       "      <td>0</td>\n",
       "      <td>143.0</td>\n",
       "      <td>0</td>\n",
       "      <td>96.0</td>\n",
       "      <td>80</td>\n",
       "      <td>18</td>\n",
       "      <td>36.6</td>\n",
       "    </tr>\n",
       "    <tr>\n",
       "      <th>2019-05-01 15:54:27</th>\n",
       "      <td>31</td>\n",
       "      <td>1</td>\n",
       "      <td>117.0</td>\n",
       "      <td>0</td>\n",
       "      <td>95.0</td>\n",
       "      <td>75</td>\n",
       "      <td>14</td>\n",
       "      <td>37.3</td>\n",
       "    </tr>\n",
       "    <tr>\n",
       "      <th>2019-05-01 17:03:16</th>\n",
       "      <td>33</td>\n",
       "      <td>0</td>\n",
       "      <td>135.0</td>\n",
       "      <td>0</td>\n",
       "      <td>97.0</td>\n",
       "      <td>89</td>\n",
       "      <td>14</td>\n",
       "      <td>36.1</td>\n",
       "    </tr>\n",
       "    <tr>\n",
       "      <th>2019-05-01 21:08:05</th>\n",
       "      <td>32</td>\n",
       "      <td>0</td>\n",
       "      <td>125.0</td>\n",
       "      <td>0</td>\n",
       "      <td>97.0</td>\n",
       "      <td>87</td>\n",
       "      <td>14</td>\n",
       "      <td>37.1</td>\n",
       "    </tr>\n",
       "    <tr>\n",
       "      <th>2019-05-01 21:13:21</th>\n",
       "      <td>34</td>\n",
       "      <td>1</td>\n",
       "      <td>117.0</td>\n",
       "      <td>0</td>\n",
       "      <td>95.0</td>\n",
       "      <td>64</td>\n",
       "      <td>13</td>\n",
       "      <td>36.6</td>\n",
       "    </tr>\n",
       "  </tbody>\n",
       "</table>\n",
       "</div>"
      ],
      "text/plain": [
       "                     PatientId  EWS_Total    SBP  LOC  SpO2  HR  RR  TEMP\n",
       "ObservationDate                                                          \n",
       "2019-05-01 13:27:50         29          0  143.0    0  96.0  80  18  36.6\n",
       "2019-05-01 15:54:27         31          1  117.0    0  95.0  75  14  37.3\n",
       "2019-05-01 17:03:16         33          0  135.0    0  97.0  89  14  36.1\n",
       "2019-05-01 21:08:05         32          0  125.0    0  97.0  87  14  37.1\n",
       "2019-05-01 21:13:21         34          1  117.0    0  95.0  64  13  36.6"
      ]
     },
     "execution_count": 8,
     "metadata": {},
     "output_type": "execute_result"
    }
   ],
   "source": [
    "df.set_index('ObservationDate', inplace = True)\n",
    "df.head(5)"
   ]
  },
  {
   "cell_type": "code",
   "execution_count": 9,
   "metadata": {},
   "outputs": [
    {
     "data": {
      "text/plain": [
       "(160947, 8)"
      ]
     },
     "execution_count": 9,
     "metadata": {},
     "output_type": "execute_result"
    }
   ],
   "source": [
    "df.shape"
   ]
  },
  {
   "cell_type": "code",
   "execution_count": 10,
   "metadata": {},
   "outputs": [
    {
     "data": {
      "text/html": [
       "<div>\n",
       "<style scoped>\n",
       "    .dataframe tbody tr th:only-of-type {\n",
       "        vertical-align: middle;\n",
       "    }\n",
       "\n",
       "    .dataframe tbody tr th {\n",
       "        vertical-align: top;\n",
       "    }\n",
       "\n",
       "    .dataframe thead th {\n",
       "        text-align: right;\n",
       "    }\n",
       "</style>\n",
       "<table border=\"1\" class=\"dataframe\">\n",
       "  <thead>\n",
       "    <tr style=\"text-align: right;\">\n",
       "      <th></th>\n",
       "      <th>PatientId</th>\n",
       "      <th>EWS_Total</th>\n",
       "      <th>SBP</th>\n",
       "      <th>LOC</th>\n",
       "      <th>SpO2</th>\n",
       "      <th>HR</th>\n",
       "      <th>RR</th>\n",
       "      <th>TEMP</th>\n",
       "    </tr>\n",
       "    <tr>\n",
       "      <th>ObservationDate</th>\n",
       "      <th></th>\n",
       "      <th></th>\n",
       "      <th></th>\n",
       "      <th></th>\n",
       "      <th></th>\n",
       "      <th></th>\n",
       "      <th></th>\n",
       "      <th></th>\n",
       "    </tr>\n",
       "  </thead>\n",
       "  <tbody>\n",
       "    <tr>\n",
       "      <th>2019-06-15 13:32:39</th>\n",
       "      <td>1743</td>\n",
       "      <td>4</td>\n",
       "      <td>122.0</td>\n",
       "      <td>0</td>\n",
       "      <td>91.0</td>\n",
       "      <td>112</td>\n",
       "      <td>18</td>\n",
       "      <td>36.6</td>\n",
       "    </tr>\n",
       "    <tr>\n",
       "      <th>2019-06-15 20:22:36</th>\n",
       "      <td>1743</td>\n",
       "      <td>5</td>\n",
       "      <td>109.0</td>\n",
       "      <td>0</td>\n",
       "      <td>93.0</td>\n",
       "      <td>104</td>\n",
       "      <td>16</td>\n",
       "      <td>37.0</td>\n",
       "    </tr>\n",
       "    <tr>\n",
       "      <th>2019-06-16 14:23:34</th>\n",
       "      <td>1743</td>\n",
       "      <td>3</td>\n",
       "      <td>117.0</td>\n",
       "      <td>0</td>\n",
       "      <td>89.0</td>\n",
       "      <td>103</td>\n",
       "      <td>19</td>\n",
       "      <td>36.5</td>\n",
       "    </tr>\n",
       "    <tr>\n",
       "      <th>2019-06-16 19:49:24</th>\n",
       "      <td>1743</td>\n",
       "      <td>3</td>\n",
       "      <td>123.0</td>\n",
       "      <td>0</td>\n",
       "      <td>90.0</td>\n",
       "      <td>107</td>\n",
       "      <td>19</td>\n",
       "      <td>36.6</td>\n",
       "    </tr>\n",
       "    <tr>\n",
       "      <th>2019-06-17 04:39:15</th>\n",
       "      <td>1743</td>\n",
       "      <td>4</td>\n",
       "      <td>102.0</td>\n",
       "      <td>0</td>\n",
       "      <td>92.0</td>\n",
       "      <td>97</td>\n",
       "      <td>18</td>\n",
       "      <td>36.7</td>\n",
       "    </tr>\n",
       "  </tbody>\n",
       "</table>\n",
       "</div>"
      ],
      "text/plain": [
       "                     PatientId  EWS_Total    SBP  LOC  SpO2   HR  RR  TEMP\n",
       "ObservationDate                                                           \n",
       "2019-06-15 13:32:39       1743          4  122.0    0  91.0  112  18  36.6\n",
       "2019-06-15 20:22:36       1743          5  109.0    0  93.0  104  16  37.0\n",
       "2019-06-16 14:23:34       1743          3  117.0    0  89.0  103  19  36.5\n",
       "2019-06-16 19:49:24       1743          3  123.0    0  90.0  107  19  36.6\n",
       "2019-06-17 04:39:15       1743          4  102.0    0  92.0   97  18  36.7"
      ]
     },
     "execution_count": 10,
     "metadata": {},
     "output_type": "execute_result"
    }
   ],
   "source": [
    "patient = df.loc[(df['PatientId'] == 1743)]\n",
    "patient.head(5)"
   ]
  },
  {
   "cell_type": "code",
   "execution_count": 11,
   "metadata": {},
   "outputs": [
    {
     "data": {
      "text/plain": [
       "(616, 8)"
      ]
     },
     "execution_count": 11,
     "metadata": {},
     "output_type": "execute_result"
    }
   ],
   "source": [
    "patient.shape"
   ]
  },
  {
   "cell_type": "markdown",
   "metadata": {},
   "source": [
    "#### Manual plots"
   ]
  },
  {
   "cell_type": "code",
   "execution_count": 31,
   "metadata": {},
   "outputs": [
    {
     "data": {
      "image/png": "[encoded data removed]",
      "text/plain": [
       "<Figure size 432x288 with 1 Axes>"
      ]
     },
     "metadata": {
      "needs_background": "light"
     },
     "output_type": "display_data"
    }
   ],
   "source": [
    "# ACF plot of time series\n",
    "from statsmodels.graphics.tsaplots import plot_acf\n",
    "\n",
    "plot_acf(patient.TEMP)\n",
    "plt.show() #95% confidence intervals are drown (default)"
   ]
  },
  {
   "cell_type": "code",
   "execution_count": 32,
   "metadata": {},
   "outputs": [
    {
     "data": {
      "image/png": "[encoded data removed]",
      "text/plain": [
       "<Figure size 432x288 with 1 Axes>"
      ]
     },
     "metadata": {
      "needs_background": "light"
     },
     "output_type": "display_data"
    }
   ],
   "source": [
    "# PACF plot of time series: if tapers to O => MA model\n",
    "\n",
    "from statsmodels.graphics.tsaplots import plot_pacf\n",
    "\n",
    "plot_pacf(patient.TEMP)\n",
    "plt.show()"
   ]
  },
  {
   "cell_type": "code",
   "execution_count": 30,
   "metadata": {},
   "outputs": [
    {
     "data": {
      "text/plain": [
       "(0.01, False)"
      ]
     },
     "execution_count": 30,
     "metadata": {},
     "output_type": "execute_result"
    }
   ],
   "source": [
    "adf_test = ADFTest(alpha=0.05)\n",
    "adf_test.should_diff(patient.TEMP) # data is not stationairy"
   ]
  },
  {
   "cell_type": "markdown",
   "metadata": {},
   "source": [
    "#### Grid search hyperparameters"
   ]
  },
  {
   "cell_type": "code",
   "execution_count": 25,
   "metadata": {},
   "outputs": [],
   "source": [
    "# evaluate an ARIMA model for a given order (p,d,q)\n",
    "def evaluate_arima_model(X, arima_order):\n",
    "\t# prepare training dataset\n",
    "\ttrain_size = int(len(X) * 0.80)\n",
    "\ttrain, test = X[0:train_size], X[train_size:]\n",
    "\thistory = [x for x in train]\n",
    "    #test.reset_index(drop=True,inplace = True)\n",
    "\t# make predictions\n",
    "\tpredictions = list()\n",
    "\tfor t in range(len(test)):\n",
    "\t\tmodel = ARIMA(history, order=arima_order)\n",
    "\t\tmodel_fit = model.fit()\n",
    "\t\tyhat = model_fit.forecast()[0]\n",
    "\t\tpredictions.append(yhat)\n",
    "\t\thistory.append(test[t])\n",
    "\t# calculate out of sample error\n",
    "\terror = mean_squared_error(test, predictions)\n",
    "\treturn error"
   ]
  },
  {
   "cell_type": "code",
   "execution_count": 26,
   "metadata": {},
   "outputs": [],
   "source": [
    "# evaluate combinations of p, d and q values for an ARIMA model\n",
    "def evaluate_models(dataset, p_values, d_values, q_values):\n",
    "\tdataset = dataset.astype('float32')\n",
    "\tbest_score, best_cfg = float(\"inf\"), None\n",
    "\tfor p in p_values:\n",
    "\t\tfor d in d_values:\n",
    "\t\t\tfor q in q_values:\n",
    "\t\t\t\torder = (p,d,q)\n",
    "\t\t\t\ttry:\n",
    "\t\t\t\t\tmse = evaluate_arima_model(dataset, order)\n",
    "\t\t\t\t\tif mse < best_score:\n",
    "\t\t\t\t\t\tbest_score, best_cfg = mse, order\n",
    "\t\t\t\t\tprint('ARIMA%s MSE=%.3f' % (order,mse))\n",
    "\t\t\t\texcept:\n",
    "\t\t\t\t\tcontinue\n",
    "\tprint('Best ARIMA%s MSE=%.3f' % (best_cfg, best_score))"
   ]
  },
  {
   "cell_type": "code",
   "execution_count": 14,
   "metadata": {},
   "outputs": [
    {
     "ename": "NameError",
     "evalue": "name 'series' is not defined",
     "output_type": "error",
     "traceback": [
      "\u001b[0;31m---------------------------------------------------------------------------\u001b[0m",
      "\u001b[0;31mNameError\u001b[0m                                 Traceback (most recent call last)",
      "\u001b[0;32m<ipython-input-14-60ae647541b0>\u001b[0m in \u001b[0;36m<module>\u001b[0;34m\u001b[0m\n\u001b[1;32m      4\u001b[0m \u001b[0mq_values\u001b[0m \u001b[0;34m=\u001b[0m \u001b[0mrange\u001b[0m\u001b[0;34m(\u001b[0m\u001b[0;36m0\u001b[0m\u001b[0;34m,\u001b[0m \u001b[0;36m3\u001b[0m\u001b[0;34m)\u001b[0m\u001b[0;34m\u001b[0m\u001b[0;34m\u001b[0m\u001b[0m\n\u001b[1;32m      5\u001b[0m \u001b[0mwarnings\u001b[0m\u001b[0;34m.\u001b[0m\u001b[0mfilterwarnings\u001b[0m\u001b[0;34m(\u001b[0m\u001b[0;34m\"ignore\"\u001b[0m\u001b[0;34m)\u001b[0m\u001b[0;34m\u001b[0m\u001b[0;34m\u001b[0m\u001b[0m\n\u001b[0;32m----> 6\u001b[0;31m \u001b[0mevaluate_models\u001b[0m\u001b[0;34m(\u001b[0m\u001b[0mseries\u001b[0m\u001b[0;34m.\u001b[0m\u001b[0mvalues\u001b[0m\u001b[0;34m,\u001b[0m \u001b[0mp_values\u001b[0m\u001b[0;34m,\u001b[0m \u001b[0md_values\u001b[0m\u001b[0;34m,\u001b[0m \u001b[0mq_values\u001b[0m\u001b[0;34m)\u001b[0m \u001b[0;31m#patient.TEMP // patient.SBP // invullen\u001b[0m\u001b[0;34m\u001b[0m\u001b[0;34m\u001b[0m\u001b[0m\n\u001b[0m",
      "\u001b[0;31mNameError\u001b[0m: name 'series' is not defined"
     ]
    }
   ],
   "source": [
    "# evaluate parameters\n",
    "p_values = [0, 1, 2, 4, 6, 8, 10]\n",
    "d_values = range(0, 3)\n",
    "q_values = range(0, 3)\n",
    "warnings.filterwarnings(\"ignore\")\n",
    "evaluate_models(series.values, p_values, d_values, q_values) #patient.TEMP.values etc"
   ]
  },
  {
   "cell_type": "markdown",
   "metadata": {},
   "source": [
    "#### Fill in hyperparameters, fit ARIMA model and plot residual errors"
   ]
  },
  {
   "cell_type": "code",
   "execution_count": 24,
   "metadata": {},
   "outputs": [
    {
     "name": "stdout",
     "output_type": "stream",
     "text": [
      "                             ARIMA Model Results                              \n",
      "==============================================================================\n",
      "Dep. Variable:                    D.y   No. Observations:                  491\n",
      "Model:                 ARIMA(5, 1, 0)   Log Likelihood                -195.000\n",
      "Method:                       css-mle   S.D. of innovations              0.359\n",
      "Date:                Tue, 12 Jan 2021   AIC                            404.001\n",
      "Time:                        08:55:38   BIC                            433.376\n",
      "Sample:                             1   HQIC                           415.536\n",
      "                                                                              \n",
      "==============================================================================\n",
      "                 coef    std err          z      P>|z|      [0.025      0.975]\n",
      "------------------------------------------------------------------------------\n",
      "const         -0.0003      0.004     -0.066      0.947      -0.009       0.008\n",
      "ar.L1.D.y     -0.8951      0.044    -20.319      0.000      -0.981      -0.809\n",
      "ar.L2.D.y     -0.8626      0.058    -14.983      0.000      -0.975      -0.750\n",
      "ar.L3.D.y     -0.5192      0.066     -7.925      0.000      -0.648      -0.391\n",
      "ar.L4.D.y     -0.3611      0.058     -6.244      0.000      -0.475      -0.248\n",
      "ar.L5.D.y     -0.2162      0.044     -4.878      0.000      -0.303      -0.129\n",
      "                                    Roots                                    \n",
      "=============================================================================\n",
      "                  Real          Imaginary           Modulus         Frequency\n",
      "-----------------------------------------------------------------------------\n",
      "AR.1           -1.5133           -0.0000j            1.5133           -0.5000\n",
      "AR.2           -0.6223           -1.0875j            1.2530           -0.3327\n",
      "AR.3           -0.6223           +1.0875j            1.2530            0.3327\n",
      "AR.4            0.5437           -1.2851j            1.3954           -0.1863\n",
      "AR.5            0.5437           +1.2851j            1.3954            0.1863\n",
      "-----------------------------------------------------------------------------\n"
     ]
    },
    {
     "data": {
      "image/png": "[encoded data removed]",
      "text/plain": [
       "<Figure size 432x288 with 1 Axes>"
      ]
     },
     "metadata": {
      "needs_background": "light"
     },
     "output_type": "display_data"
    },
    {
     "data": {
      "image/png": "[encoded data removed]",
      "text/plain": [
       "<Figure size 432x288 with 1 Axes>"
      ]
     },
     "metadata": {
      "needs_background": "light"
     },
     "output_type": "display_data"
    },
    {
     "name": "stdout",
     "output_type": "stream",
     "text": [
      "                0\n",
      "count  491.000000\n",
      "mean    -0.000149\n",
      "std      0.360192\n",
      "min     -1.076657\n",
      "25%     -0.225201\n",
      "50%      0.015499\n",
      "75%      0.248586\n",
      "max      1.990510\n"
     ]
    }
   ],
   "source": [
    "# split into train and test sets\n",
    "X = patient.TEMP.values\n",
    "size = int(len(X) * 0.8)\n",
    "train, test = X[0:size], X[size:len(X)]\n",
    "\n",
    "# fit model\n",
    "model = ARIMA(train, order=(5,1,0)) # fill in the p, d , q values from grid search\n",
    "model_fit = model.fit(disp=0)\n",
    "# summary of fit model\n",
    "print(model_fit.summary())\n",
    "# line plot of residuals\n",
    "residuals = DataFrame(model_fit.resid) \n",
    "residuals.plot()\n",
    "plt.show()\n",
    "# density plot of residuals \n",
    "residuals.plot(kind='kde') \n",
    "plt.show()\n",
    "# summary stats of residuals: mean close to zero , and st dev close to 1\n",
    "print(residuals.describe())"
   ]
  },
  {
   "cell_type": "markdown",
   "metadata": {},
   "source": [
    "#### Evaluate an ARIMA model using a walk-forward validation"
   ]
  },
  {
   "cell_type": "code",
   "execution_count": 23,
   "metadata": {},
   "outputs": [
    {
     "name": "stdout",
     "output_type": "stream",
     "text": [
      "predicted=36.507204, expected=36.500000\n",
      "predicted=36.590140, expected=36.500000\n",
      "predicted=36.394827, expected=36.500000\n",
      "predicted=36.478077, expected=36.700000\n",
      "predicted=36.584419, expected=36.600000\n",
      "predicted=36.516376, expected=36.800000\n",
      "predicted=36.603572, expected=36.700000\n",
      "predicted=36.597324, expected=37.200000\n",
      "predicted=36.730519, expected=37.300000\n",
      "predicted=36.787828, expected=36.900000\n",
      "predicted=36.912445, expected=37.400000\n",
      "predicted=37.096488, expected=37.300000\n",
      "predicted=37.031725, expected=37.500000\n",
      "predicted=37.280511, expected=36.400000\n",
      "predicted=37.173412, expected=36.300000\n",
      "predicted=37.152284, expected=36.800000\n",
      "predicted=36.942604, expected=37.100000\n",
      "predicted=36.807754, expected=37.200000\n",
      "predicted=36.874458, expected=37.200000\n",
      "predicted=36.813813, expected=36.500000\n",
      "predicted=36.849077, expected=37.000000\n",
      "predicted=37.053671, expected=36.100000\n",
      "predicted=36.801533, expected=37.000000\n",
      "predicted=36.959737, expected=36.600000\n",
      "predicted=36.629880, expected=36.800000\n",
      "predicted=36.712805, expected=36.600000\n",
      "predicted=36.688748, expected=37.200000\n",
      "predicted=36.680438, expected=37.000000\n",
      "predicted=36.797633, expected=36.200000\n",
      "predicted=36.795239, expected=36.400000\n",
      "predicted=36.823100, expected=36.600000\n",
      "predicted=36.604026, expected=36.600000\n",
      "predicted=36.657485, expected=36.500000\n",
      "predicted=36.587037, expected=36.900000\n",
      "predicted=36.519041, expected=37.200000\n",
      "predicted=36.617299, expected=37.000000\n",
      "predicted=36.766178, expected=36.900000\n",
      "predicted=36.889152, expected=36.400000\n",
      "predicted=36.827934, expected=36.400000\n",
      "predicted=36.864048, expected=36.800000\n",
      "predicted=36.779746, expected=36.300000\n",
      "predicted=36.598307, expected=36.500000\n",
      "predicted=36.642741, expected=36.600000\n",
      "predicted=36.457617, expected=37.400000\n",
      "predicted=36.616219, expected=37.200000\n",
      "predicted=36.716352, expected=36.400000\n",
      "predicted=36.784394, expected=36.600000\n",
      "predicted=36.881856, expected=36.900000\n",
      "predicted=36.775721, expected=36.600000\n",
      "predicted=36.832007, expected=36.700000\n",
      "predicted=36.809722, expected=36.700000\n",
      "predicted=36.622245, expected=37.900000\n",
      "predicted=36.864275, expected=37.800000\n",
      "predicted=36.958519, expected=37.800000\n",
      "predicted=37.312661, expected=37.800000\n",
      "predicted=37.479279, expected=36.900000\n",
      "predicted=37.448375, expected=37.300000\n",
      "predicted=37.689555, expected=36.700000\n",
      "predicted=37.292928, expected=37.500000\n",
      "predicted=37.405959, expected=37.700000\n",
      "predicted=37.247909, expected=36.600000\n",
      "predicted=37.118767, expected=37.500000\n",
      "predicted=37.370477, expected=36.300000\n",
      "predicted=36.891835, expected=35.900000\n",
      "predicted=37.064939, expected=36.700000\n",
      "predicted=36.784621, expected=36.200000\n",
      "predicted=36.386785, expected=36.400000\n",
      "predicted=36.617086, expected=36.800000\n",
      "predicted=36.356515, expected=37.100000\n",
      "predicted=36.483800, expected=37.400000\n",
      "predicted=36.810161, expected=36.800000\n",
      "predicted=36.790139, expected=37.700000\n",
      "predicted=37.138880, expected=37.000000\n",
      "predicted=37.016664, expected=37.000000\n",
      "predicted=37.277077, expected=36.700000\n",
      "predicted=37.063101, expected=37.400000\n",
      "predicted=37.097426, expected=37.100000\n",
      "predicted=37.082855, expected=37.000000\n",
      "predicted=37.108365, expected=37.200000\n",
      "predicted=37.082182, expected=37.300000\n",
      "predicted=37.082492, expected=37.400000\n",
      "predicted=37.252336, expected=37.000000\n",
      "predicted=37.174817, expected=37.100000\n",
      "predicted=37.207573, expected=37.000000\n",
      "predicted=37.123882, expected=37.100000\n",
      "predicted=37.151717, expected=37.400000\n",
      "predicted=37.168628, expected=37.500000\n",
      "predicted=37.179381, expected=36.900000\n",
      "predicted=37.184791, expected=36.500000\n",
      "predicted=37.111529, expected=36.500000\n",
      "predicted=36.943731, expected=36.800000\n",
      "predicted=36.876920, expected=37.600000\n",
      "predicted=36.975795, expected=37.000000\n",
      "predicted=36.857441, expected=36.100000\n",
      "predicted=36.834861, expected=36.700000\n",
      "predicted=36.822886, expected=36.800000\n",
      "predicted=36.697885, expected=37.100000\n",
      "predicted=36.926595, expected=36.500000\n",
      "predicted=36.695999, expected=36.300000\n",
      "predicted=36.635674, expected=35.900000\n",
      "predicted=36.505028, expected=37.100000\n",
      "predicted=36.650042, expected=37.100000\n",
      "predicted=36.565168, expected=37.500000\n",
      "predicted=36.830732, expected=37.700000\n",
      "predicted=36.955588, expected=37.400000\n",
      "predicted=37.114306, expected=36.900000\n",
      "predicted=37.300617, expected=37.500000\n",
      "predicted=37.373432, expected=37.200000\n",
      "predicted=37.275317, expected=37.100000\n",
      "predicted=37.359440, expected=37.000000\n",
      "predicted=37.182525, expected=37.000000\n",
      "predicted=37.094849, expected=37.300000\n",
      "predicted=37.194710, expected=37.000000\n",
      "predicted=37.074932, expected=36.800000\n",
      "predicted=37.066558, expected=37.300000\n",
      "predicted=37.082008, expected=37.300000\n",
      "predicted=37.067925, expected=37.600000\n",
      "predicted=37.281733, expected=36.900000\n",
      "predicted=37.122544, expected=37.100000\n",
      "predicted=37.226902, expected=36.500000\n",
      "predicted=37.026283, expected=37.100000\n",
      "predicted=37.132388, expected=37.600000\n",
      "predicted=37.103823, expected=37.100000\n",
      "predicted=37.042829, expected=36.500000\n",
      "Test RMSE: 0.467\n"
     ]
    },
    {
     "data": {
      "image/png": "[encoded data removed]",
      "text/plain": [
       "<Figure size 432x288 with 1 Axes>"
      ]
     },
     "metadata": {
      "needs_background": "light"
     },
     "output_type": "display_data"
    }
   ],
   "source": [
    "# split into train and test sets\n",
    "X = patient.TEMP.values\n",
    "size = int(len(X) * 0.8)\n",
    "train, test = X[0:size], X[size:len(X)]\n",
    "history = [x for x in train]\n",
    "predictions = list()\n",
    "\n",
    "# walk-forward validation\n",
    "for t in range(len(test)):\n",
    "    model = ARIMA(history, order=(5,1,0)) # fill in p, d, q values from grid search\n",
    "    model_fit = model.fit(disp=0)\n",
    "    output = model_fit.forecast()\n",
    "    yhat = output[0]\n",
    "    predictions.append(yhat)\n",
    "    obs = test[t]\n",
    "    history.append(obs)\n",
    "    print('predicted=%f, expected=%f' % (yhat, obs))\n",
    "# evaluate forecasts\n",
    "rmse = sqrt(mean_squared_error(test, predictions)) \n",
    "print('Test RMSE: %.3f' % rmse)\n",
    "\n",
    "# plot forecasts against actual outcomes \n",
    "plt.plot(test)\n",
    "plt.plot(predictions, color='red') \n",
    "plt.show()"
   ]
  },
  {
   "cell_type": "code",
   "execution_count": null,
   "metadata": {},
   "outputs": [],
   "source": []
  }
 ],
 "metadata": {
  "kernelspec": {
   "display_name": "Python 3",
   "language": "python",
   "name": "python3"
  },
  "language_info": {
   "codemirror_mode": {
    "name": "ipython",
    "version": 3
   },
   "file_extension": ".py",
   "mimetype": "text/x-python",
   "name": "python",
   "nbconvert_exporter": "python",
   "pygments_lexer": "ipython3",
   "version": "3.8.3"
  }
 },
 "nbformat": 4,
 "nbformat_minor": 4
}
